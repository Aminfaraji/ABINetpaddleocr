{
  "nbformat": 4,
  "nbformat_minor": 0,
  "metadata": {
    "colab": {
      "provenance": [],
      "gpuType": "T4",
      "authorship_tag": "ABX9TyPErFUqaaRj15+/wlUfhQN7",
      "include_colab_link": true
    },
    "kernelspec": {
      "name": "python3",
      "display_name": "Python 3"
    },
    "language_info": {
      "name": "python"
    },
    "accelerator": "GPU"
  },
  "cells": [
    {
      "cell_type": "markdown",
      "metadata": {
        "id": "view-in-github",
        "colab_type": "text"
      },
      "source": [
        "<a href=\"https://colab.research.google.com/github/Aminfaraji/ABINetpaddleocr/blob/main/ABINetpaddleocr.ipynb\" target=\"_parent\"><img src=\"https://colab.research.google.com/assets/colab-badge.svg\" alt=\"Open In Colab\"/></a>"
      ]
    },
    {
      "cell_type": "code",
      "execution_count": 1,
      "metadata": {
        "colab": {
          "base_uri": "https://localhost:8080/"
        },
        "id": "RW2THkseQ0KI",
        "outputId": "78300ec4-7137-4ca4-c42e-6ef58277f81a"
      },
      "outputs": [
        {
          "output_type": "stream",
          "name": "stdout",
          "text": [
            "Mounted at /content/drive\n"
          ]
        }
      ],
      "source": [
        "from google.colab import drive\n",
        "drive.mount('/content/drive')"
      ]
    },
    {
      "cell_type": "code",
      "source": [
        "# !nvidia-smi\n",
        "# !pip install xformers==v0.0.22\n",
        "# !pip install mmcv-full==1.3.13 -f https://download.openmmlab.com/mmcv/dist/cu102/torch1.9.0/index.html\n"
      ],
      "metadata": {
        "id": "wOXGmpFGlxDI"
      },
      "execution_count": null,
      "outputs": []
    },
    {
      "cell_type": "code",
      "source": [
        "# !python -m pip install paddlepaddle-gpu==2.4.1.post112 -f https://www.paddlepaddle.org.cn/whl/linux/mkl/avx/stable.html\n",
        "# !python -m pip install paddlepaddle-gpu==2.5.2.post102 -f https://www.paddlepaddle.org.cn/whl/linux/mkl/avx/stable.html\n",
        "!python3 -m pip install paddlepaddle-gpu==2.6.1.post120 -f https://www.paddlepaddle.org.cn/whl/linux/mkl/avx/stable.html\n",
        "!git clone https://github.com/PaddlePaddle/PaddleOCR.git\n",
        "%cd /content/PaddleOCR\n",
        "!pip install -r requirements.txt"
      ],
      "metadata": {
        "id": "SApL4hsYRN4t"
      },
      "execution_count": null,
      "outputs": []
    },
    {
      "cell_type": "code",
      "source": [
        "%cd /content/PaddleOCR\n",
        "!mkdir pretrained_model\n",
        "%cd pretrained_model/\n",
        "# !unzip /content/drive/MyDrive/IDPL2.zip\n",
        "!wget https://paddleocr.bj.bcebos.com/rec_r45_abinet_train.tar\n",
        "!tar -xf rec_r45_abinet_train.tar && rm -rf rec_r45_abinet_train.tar"
      ],
      "metadata": {
        "id": "RX7XyN3HRhmF"
      },
      "execution_count": null,
      "outputs": []
    },
    {
      "cell_type": "code",
      "source": [
        "!rm -rf /content/PaddleOCR/train_data"
      ],
      "metadata": {
        "id": "VN7dK07qD56i"
      },
      "execution_count": null,
      "outputs": []
    },
    {
      "cell_type": "code",
      "source": [
        "# !mkdir /content/PaddleOCR/train_data\n",
        "# !unzip /content/drive/MyDrive/IDPL-PFOD2-dataset/train.zip -d /content/PaddleOCR/train_data\n",
        "# !unzip /content/drive/MyDrive/IDPL-PFOD2-dataset/val.zip -d /content/PaddleOCR/train_data\n",
        "!cp /content/drive/MyDrive/IDPL-PFOD2-dataset/val.txt -r /content/PaddleOCR/train_data\n",
        "!cp /content/drive/MyDrive/IDPL-PFOD2-dataset/train.txt -r /content/PaddleOCR/train_data\n"
      ],
      "metadata": {
        "id": "Rsh9qOVvVoWU"
      },
      "execution_count": null,
      "outputs": []
    },
    {
      "cell_type": "code",
      "source": [
        "import cv2\n",
        "import os\n",
        "#from imutils import perspective\n",
        "import numpy as np\n",
        "import json\n",
        "from tqdm import tqdm\n",
        "import matplotlib.pyplot as plt\n",
        "from imutils import perspective"
      ],
      "metadata": {
        "id": "9dejnwObV1LI"
      },
      "execution_count": null,
      "outputs": []
    },
    {
      "cell_type": "code",
      "source": [
        "# !python3 tools/train.py -c /content/PaddleOCR/pretrained_model/rec_r45_abinet_train/config.yml -o Global.pretrained_model=/content/PaddleOCR/pretrained_model/rec_r45_abinet_train/best_accuracy"
      ],
      "metadata": {
        "id": "9n1t7So9Ynuv"
      },
      "execution_count": null,
      "outputs": []
    },
    {
      "cell_type": "code",
      "source": [
        "%cd /content/PaddleOCR"
      ],
      "metadata": {
        "colab": {
          "base_uri": "https://localhost:8080/"
        },
        "id": "f1SdL1oWZKZV",
        "outputId": "7b4523a9-1b18-485f-f680-4f341ba144c6"
      },
      "execution_count": null,
      "outputs": [
        {
          "output_type": "stream",
          "name": "stdout",
          "text": [
            "/content/PaddleOCR\n"
          ]
        }
      ]
    },
    {
      "cell_type": "code",
      "source": [
        "with open(r'/content/PaddleOCR/train_data/dataset_IDPL/test.txt',encoding='utf-8') as f:\n",
        "  w=open('/content/PaddleOCR/train_data/dataset_IDPL/test_new.txt','w',encoding='utf-8')\n",
        "  ff=f.readlines()\n",
        "  for i in ff:\n",
        "      index=i.find(',')\n",
        "      q=i[0:index]+' '+i[index+1:]\n",
        "      w.writelines(q)"
      ],
      "metadata": {
        "id": "zpXEQRq0apWL"
      },
      "execution_count": null,
      "outputs": []
    },
    {
      "cell_type": "code",
      "source": [
        "import matplotlib.pyplot as plt\n",
        "img=cv2.imread('/content/PaddleOCR/train_data/train/IDback_15773.png')\n",
        "plt.imshow(img)\n",
        "img_resi=cv2.resize(img,(128,32))\n",
        "plt.imshow(img_resi)"
      ],
      "metadata": {
        "colab": {
          "base_uri": "https://localhost:8080/",
          "height": 206
        },
        "id": "Fv3aWPJZuv9M",
        "outputId": "eded4fd7-6a4e-445d-a08a-c618199191d7"
      },
      "execution_count": null,
      "outputs": [
        {
          "output_type": "execute_result",
          "data": {
            "text/plain": [
              "<matplotlib.image.AxesImage at 0x7c6d427ba290>"
            ]
          },
          "metadata": {},
          "execution_count": 71
        },
        {
          "output_type": "display_data",
          "data": {
            "text/plain": [
              "<Figure size 640x480 with 1 Axes>"
            ],
            "image/png": "[encoded data removed]"
          },
          "metadata": {}
        }
      ]
    },
    {
      "cell_type": "code",
      "source": [
        "!python3 tools/infer_rec.py -c /content/PaddleOCR/pretrained_model/IDPL2/output-IDPL2-ABInet-06/config.yml -o Global.infer_img='/content/PaddleOCR/pretrained_model/IDPL2/output-IDPL2-ABInet-06/test/Lsimple_148885.png' Global.pretrained_model=/content/PaddleOCR/pretrained_model/IDPL2/output-IDPL2-ABInet-06/best_accuracy"
      ],
      "metadata": {
        "colab": {
          "base_uri": "https://localhost:8080/"
        },
        "id": "WQRDH2jee6hk",
        "outputId": "b02c4a58-e488-42d4-ff7b-8bf77e4bf64a"
      },
      "execution_count": null,
      "outputs": [
        {
          "output_type": "stream",
          "name": "stdout",
          "text": [
            "[2024/05/25 17:32:37] ppocr INFO: Architecture : \n",
            "[2024/05/25 17:32:37] ppocr INFO:     Backbone : \n",
            "[2024/05/25 17:32:37] ppocr INFO:         name : ResNet45\n",
            "[2024/05/25 17:32:37] ppocr INFO:     Head : \n",
            "[2024/05/25 17:32:37] ppocr INFO:         iter_size : 3\n",
            "[2024/05/25 17:32:37] ppocr INFO:         name : ABINetHead\n",
            "[2024/05/25 17:32:37] ppocr INFO:         use_lang : True\n",
            "[2024/05/25 17:32:37] ppocr INFO:     Transform : None\n",
            "[2024/05/25 17:32:37] ppocr INFO:     algorithm : ABINet\n",
            "[2024/05/25 17:32:37] ppocr INFO:     in_channels : 3\n",
            "[2024/05/25 17:32:37] ppocr INFO:     model_type : rec\n",
            "[2024/05/25 17:32:37] ppocr INFO: Eval : \n",
            "[2024/05/25 17:32:37] ppocr INFO:     dataset : \n",
            "[2024/05/25 17:32:37] ppocr INFO:         data_dir : /media/admin-pc-nezamabadi/Students/Dataset-IDPL-PFOD2-merge-with-DR/test\n",
            "[2024/05/25 17:32:37] ppocr INFO:         label_file_list : ['/media/admin-pc-nezamabadi/Students/Dataset-IDPL-PFOD2-merge-with-DR/old_txt_files/test.txt']\n",
            "[2024/05/25 17:32:37] ppocr INFO:         name : SimpleDataSet\n",
            "[2024/05/25 17:32:37] ppocr INFO:         transforms : \n",
            "[2024/05/25 17:32:37] ppocr INFO:             DecodeImage : \n",
            "[2024/05/25 17:32:37] ppocr INFO:                 channel_first : False\n",
            "[2024/05/25 17:32:37] ppocr INFO:                 img_mode : RGB\n",
            "[2024/05/25 17:32:37] ppocr INFO:             ABINetLabelEncode : None\n",
            "[2024/05/25 17:32:37] ppocr INFO:             ABINetRecResizeImg : \n",
            "[2024/05/25 17:32:37] ppocr INFO:                 image_shape : [3, 32, 128]\n",
            "[2024/05/25 17:32:37] ppocr INFO:                 padding : False\n",
            "[2024/05/25 17:32:37] ppocr INFO:             KeepKeys : \n",
            "[2024/05/25 17:32:37] ppocr INFO:                 keep_keys : ['image', 'label', 'length']\n",
            "[2024/05/25 17:32:37] ppocr INFO:     loader : \n",
            "[2024/05/25 17:32:37] ppocr INFO:         batch_size_per_card : 32\n",
            "[2024/05/25 17:32:37] ppocr INFO:         drop_last : False\n",
            "[2024/05/25 17:32:37] ppocr INFO:         num_workers : 4\n",
            "[2024/05/25 17:32:37] ppocr INFO:         shuffle : False\n",
            "[2024/05/25 17:32:37] ppocr INFO:         use_shared_memory : False\n",
            "[2024/05/25 17:32:37] ppocr INFO: Global : \n",
            "[2024/05/25 17:32:37] ppocr INFO:     cal_metric_during_train : True\n",
            "[2024/05/25 17:32:37] ppocr INFO:     character_dict_path : /content/drive/MyDrive/char.txt\n",
            "[2024/05/25 17:32:37] ppocr INFO:     character_type : fa\n",
            "[2024/05/25 17:32:37] ppocr INFO:     checkpoints : /content/PaddleOCR/pretrained_model/IDPL2/output-IDPL2-ABInet-06/best_accuracy\n",
            "[2024/05/25 17:32:37] ppocr INFO:     distributed : False\n",
            "[2024/05/25 17:32:37] ppocr INFO:     epoch_num : 1500\n",
            "[2024/05/25 17:32:37] ppocr INFO:     eval_batch_step : [0, 40582]\n",
            "[2024/05/25 17:32:37] ppocr INFO:     infer_img : /content/PaddleOCR/pretrained_model/IDPL2/output-IDPL2-ABInet-06/test/Lsimple_148885.png\n",
            "[2024/05/25 17:32:37] ppocr INFO:     infer_mode : False\n",
            "[2024/05/25 17:32:37] ppocr INFO:     log_smooth_window : 1\n",
            "[2024/05/25 17:32:37] ppocr INFO:     max_text_length : 40\n",
            "[2024/05/25 17:32:37] ppocr INFO:     pretrained_model : /content/PaddleOCR/pretrained_model/IDPL2/output-IDPL2-ABInet-06/best_accuracy\n",
            "[2024/05/25 17:32:37] ppocr INFO:     print_batch_step : 10\n",
            "[2024/05/25 17:32:37] ppocr INFO:     save_epoch_step : 30\n",
            "[2024/05/25 17:32:37] ppocr INFO:     save_inference_dir : None\n",
            "[2024/05/25 17:32:37] ppocr INFO:     save_model_dir : /home/admin-pc-nezamabadi/paddelpaddle-env/output-IDPL2-ABInet-06\n",
            "[2024/05/25 17:32:37] ppocr INFO:     save_res_path : /content/PaddleOCR/pretrained_model/IDPL2/output-IDPL2-ABInet-06/rec/abinet_rec.txt\n",
            "[2024/05/25 17:32:37] ppocr INFO:     use_gpu : True\n",
            "[2024/05/25 17:32:37] ppocr INFO:     use_space_char : True\n",
            "[2024/05/25 17:32:37] ppocr INFO:     use_visualdl : False\n",
            "[2024/05/25 17:32:37] ppocr INFO: Loss : \n",
            "[2024/05/25 17:32:37] ppocr INFO:     ignore_index : 100\n",
            "[2024/05/25 17:32:37] ppocr INFO:     name : CELoss\n",
            "[2024/05/25 17:32:37] ppocr INFO:     smoothing : False\n",
            "[2024/05/25 17:32:37] ppocr INFO: Metric : \n",
            "[2024/05/25 17:32:37] ppocr INFO:     main_indicator : acc\n",
            "[2024/05/25 17:32:37] ppocr INFO:     name : RecMetric\n",
            "[2024/05/25 17:32:37] ppocr INFO: Optimizer : \n",
            "[2024/05/25 17:32:37] ppocr INFO:     beta1 : 0.9\n",
            "[2024/05/25 17:32:37] ppocr INFO:     beta2 : 0.99\n",
            "[2024/05/25 17:32:37] ppocr INFO:     clip_norm : 20.0\n",
            "[2024/05/25 17:32:37] ppocr INFO:     lr : \n",
            "[2024/05/25 17:32:37] ppocr INFO:         decay_epochs : [6]\n",
            "[2024/05/25 17:32:37] ppocr INFO:         name : Piecewise\n",
            "[2024/05/25 17:32:37] ppocr INFO:         values : [0.0001, 1e-05]\n",
            "[2024/05/25 17:32:37] ppocr INFO:     name : Adam\n",
            "[2024/05/25 17:32:37] ppocr INFO:     regularizer : \n",
            "[2024/05/25 17:32:37] ppocr INFO:         factor : 0.0\n",
            "[2024/05/25 17:32:37] ppocr INFO:         name : L2\n",
            "[2024/05/25 17:32:37] ppocr INFO: PostProcess : \n",
            "[2024/05/25 17:32:37] ppocr INFO:     name : ABINetLabelDecode\n",
            "[2024/05/25 17:32:37] ppocr INFO: Train : \n",
            "[2024/05/25 17:32:37] ppocr INFO:     dataset : \n",
            "[2024/05/25 17:32:37] ppocr INFO:         data_dir : /media/admin-pc-nezamabadi/Students/Dataset-IDPL-PFOD2-merge-with-DR/train\n",
            "[2024/05/25 17:32:37] ppocr INFO:         label_file_list : ['/media/admin-pc-nezamabadi/Students/Dataset-IDPL-PFOD2-merge-with-DR/old_txt_files/train.txt']\n",
            "[2024/05/25 17:32:37] ppocr INFO:         name : SimpleDataSet\n",
            "[2024/05/25 17:32:37] ppocr INFO:         transforms : \n",
            "[2024/05/25 17:32:37] ppocr INFO:             DecodeImage : \n",
            "[2024/05/25 17:32:37] ppocr INFO:                 channel_first : False\n",
            "[2024/05/25 17:32:37] ppocr INFO:                 img_mode : RGB\n",
            "[2024/05/25 17:32:37] ppocr INFO:             ABINetRecAug : None\n",
            "[2024/05/25 17:32:37] ppocr INFO:             ABINetLabelEncode : None\n",
            "[2024/05/25 17:32:37] ppocr INFO:             ABINetRecResizeImg : \n",
            "[2024/05/25 17:32:37] ppocr INFO:                 image_shape : [3, 32, 128]\n",
            "[2024/05/25 17:32:37] ppocr INFO:                 padding : False\n",
            "[2024/05/25 17:32:37] ppocr INFO:             KeepKeys : \n",
            "[2024/05/25 17:32:37] ppocr INFO:                 keep_keys : ['image', 'label', 'length']\n",
            "[2024/05/25 17:32:37] ppocr INFO:     loader : \n",
            "[2024/05/25 17:32:37] ppocr INFO:         batch_size_per_card : 32\n",
            "[2024/05/25 17:32:37] ppocr INFO:         drop_last : True\n",
            "[2024/05/25 17:32:37] ppocr INFO:         num_workers : 8\n",
            "[2024/05/25 17:32:37] ppocr INFO:         shuffle : True\n",
            "[2024/05/25 17:32:37] ppocr INFO: profiler_options : None\n",
            "[2024/05/25 17:32:37] ppocr INFO: train with paddle 2.6.1 and device Place(gpu:0)\n",
            "W0525 17:32:38.073269  5363 gpu_resources.cc:119] Please NOTE: device: 0, GPU Compute Capability: 7.5, Driver API Version: 12.2, Runtime API Version: 12.0\n",
            "W0525 17:32:38.074559  5363 gpu_resources.cc:164] device: 0, cuDNN Version: 8.9.\n",
            "[2024/05/25 17:32:38] ppocr WARNING: The shape of model params head.decoder.pos_encoder.pe [26, 1, 512] not matched with loaded params shape [41, 1, 512] !\n",
            "[2024/05/25 17:32:38] ppocr WARNING: The shape of model params head.cls.weight [512, 40] not matched with loaded params shape [512, 157] !\n",
            "[2024/05/25 17:32:38] ppocr WARNING: The shape of model params head.cls.bias [40] not matched with loaded params shape [157] !\n",
            "[2024/05/25 17:32:38] ppocr WARNING: The shape of model params head.language.proj.weight [40, 512] not matched with loaded params shape [157, 512] !\n",
            "[2024/05/25 17:32:38] ppocr WARNING: The shape of model params head.language.token_encoder.pe [26, 1, 512] not matched with loaded params shape [41, 1, 512] !\n",
            "[2024/05/25 17:32:38] ppocr WARNING: The shape of model params head.language.pos_encoder.pe [26, 1, 512] not matched with loaded params shape [41, 1, 512] !\n",
            "[2024/05/25 17:32:38] ppocr WARNING: The shape of model params head.language.cls.weight [512, 40] not matched with loaded params shape [512, 157] !\n",
            "[2024/05/25 17:32:38] ppocr WARNING: The shape of model params head.language.cls.bias [40] not matched with loaded params shape [157] !\n",
            "[2024/05/25 17:32:38] ppocr WARNING: The shape of model params head.cls_align.weight [512, 40] not matched with loaded params shape [512, 157] !\n",
            "[2024/05/25 17:32:38] ppocr WARNING: The shape of model params head.cls_align.bias [40] not matched with loaded params shape [157] !\n",
            "[2024/05/25 17:32:38] ppocr INFO: resume from /content/PaddleOCR/pretrained_model/IDPL2/output-IDPL2-ABInet-06/best_accuracy\n",
            "[2024/05/25 17:32:38] ppocr INFO: infer_img: /content/PaddleOCR/pretrained_model/IDPL2/output-IDPL2-ABInet-06/test/Lsimple_148885.png\n",
            "[2024/05/25 17:32:39] ppocr INFO: \t result: لایهذکللغکممپکمسلثعلثضگگگگ\t0.19449901580810547\n",
            "[2024/05/25 17:32:39] ppocr INFO: success!\n"
          ]
        }
      ]
    },
    {
      "cell_type": "code",
      "source": [
        "!unzip /content/drive/MyDrive/withoutbackground.zip"
      ],
      "metadata": {
        "id": "rOjI5SSePoox"
      },
      "execution_count": null,
      "outputs": []
    },
    {
      "cell_type": "code",
      "source": [
        "import pandas as pd\n",
        "import cv2\n",
        "from google.colab.patches import cv2_imshow\n",
        "info_image = pd.read_excel('/content/without background/Identity Card2/info.xlsx')\n",
        "info_image"
      ],
      "metadata": {
        "colab": {
          "base_uri": "https://localhost:8080/",
          "height": 424
        },
        "id": "ugUdmpB5vrwe",
        "outputId": "5f12c8fe-b1d0-42e6-8b6c-38ace2ccfb86"
      },
      "execution_count": 5,
      "outputs": [
        {
          "output_type": "execute_result",
          "data": {
            "text/plain": [
              "      x_coord  y_coord    W   H           text         filename\n",
              "0         675      216  230  40     6304404347  C07B0S12161.jpg\n",
              "1         800      300  105  35       کامشاد\\n  C07B0S12161.jpg\n",
              "2         821      370   84  35        امیری\\n  C07B0S12161.jpg\n",
              "3         723      438  182  35  1341 / 4 / 11  C07B0S12161.jpg\n",
              "4         849      505   56  35          کیا\\n  C07B0S12161.jpg\n",
              "...       ...      ...  ...  ..            ...              ...\n",
              "2761      830      300   75  35         ژیلا\\n  C07B0S22621.jpg\n",
              "2762      835      370   70  35         پستا\\n  C07B0S22621.jpg\n",
              "2763      737      438  168  35   1327 / 9 / 9  C07B0S22621.jpg\n",
              "2764      835      505   70  35         بهبد\\n  C07B0S22621.jpg\n",
              "2765      737      565  168  35   1401 / 4 / 1  C07B0S22621.jpg\n",
              "\n",
              "[2766 rows x 6 columns]"
            ],
            "text/html": [
              "\n",
              "  <div id=\"df-b731d9ea-2ab8-438d-92a7-c94785d187dd\" class=\"colab-df-container\">\n",
              "    <div>\n",
              "<style scoped>\n",
              "    .dataframe tbody tr th:only-of-type {\n",
              "        vertical-align: middle;\n",
              "    }\n",
              "\n",
              "    .dataframe tbody tr th {\n",
              "        vertical-align: top;\n",
              "    }\n",
              "\n",
              "    .dataframe thead th {\n",
              "        text-align: right;\n",
              "    }\n",
              "</style>\n",
              "<table border=\"1\" class=\"dataframe\">\n",
              "  <thead>\n",
              "    <tr style=\"text-align: right;\">\n",
              "      <th></th>\n",
              "      <th>x_coord</th>\n",
              "      <th>y_coord</th>\n",
              "      <th>W</th>\n",
              "      <th>H</th>\n",
              "      <th>text</th>\n",
              "      <th>filename</th>\n",
              "    </tr>\n",
              "  </thead>\n",
              "  <tbody>\n",
              "    <tr>\n",
              "      <th>0</th>\n",
              "      <td>675</td>\n",
              "      <td>216</td>\n",
              "      <td>230</td>\n",
              "      <td>40</td>\n",
              "      <td>6304404347</td>\n",
              "      <td>C07B0S12161.jpg</td>\n",
              "    </tr>\n",
              "    <tr>\n",
              "      <th>1</th>\n",
              "      <td>800</td>\n",
              "      <td>300</td>\n",
              "      <td>105</td>\n",
              "      <td>35</td>\n",
              "      <td>کامشاد\\n</td>\n",
              "      <td>C07B0S12161.jpg</td>\n",
              "    </tr>\n",
              "    <tr>\n",
              "      <th>2</th>\n",
              "      <td>821</td>\n",
              "      <td>370</td>\n",
              "      <td>84</td>\n",
              "      <td>35</td>\n",
              "      <td>امیری\\n</td>\n",
              "      <td>C07B0S12161.jpg</td>\n",
              "    </tr>\n",
              "    <tr>\n",
              "      <th>3</th>\n",
              "      <td>723</td>\n",
              "      <td>438</td>\n",
              "      <td>182</td>\n",
              "      <td>35</td>\n",
              "      <td>1341 / 4 / 11</td>\n",
              "      <td>C07B0S12161.jpg</td>\n",
              "    </tr>\n",
              "    <tr>\n",
              "      <th>4</th>\n",
              "      <td>849</td>\n",
              "      <td>505</td>\n",
              "      <td>56</td>\n",
              "      <td>35</td>\n",
              "      <td>کیا\\n</td>\n",
              "      <td>C07B0S12161.jpg</td>\n",
              "    </tr>\n",
              "    <tr>\n",
              "      <th>...</th>\n",
              "      <td>...</td>\n",
              "      <td>...</td>\n",
              "      <td>...</td>\n",
              "      <td>...</td>\n",
              "      <td>...</td>\n",
              "      <td>...</td>\n",
              "    </tr>\n",
              "    <tr>\n",
              "      <th>2761</th>\n",
              "      <td>830</td>\n",
              "      <td>300</td>\n",
              "      <td>75</td>\n",
              "      <td>35</td>\n",
              "      <td>ژیلا\\n</td>\n",
              "      <td>C07B0S22621.jpg</td>\n",
              "    </tr>\n",
              "    <tr>\n",
              "      <th>2762</th>\n",
              "      <td>835</td>\n",
              "      <td>370</td>\n",
              "      <td>70</td>\n",
              "      <td>35</td>\n",
              "      <td>پستا\\n</td>\n",
              "      <td>C07B0S22621.jpg</td>\n",
              "    </tr>\n",
              "    <tr>\n",
              "      <th>2763</th>\n",
              "      <td>737</td>\n",
              "      <td>438</td>\n",
              "      <td>168</td>\n",
              "      <td>35</td>\n",
              "      <td>1327 / 9 / 9</td>\n",
              "      <td>C07B0S22621.jpg</td>\n",
              "    </tr>\n",
              "    <tr>\n",
              "      <th>2764</th>\n",
              "      <td>835</td>\n",
              "      <td>505</td>\n",
              "      <td>70</td>\n",
              "      <td>35</td>\n",
              "      <td>بهبد\\n</td>\n",
              "      <td>C07B0S22621.jpg</td>\n",
              "    </tr>\n",
              "    <tr>\n",
              "      <th>2765</th>\n",
              "      <td>737</td>\n",
              "      <td>565</td>\n",
              "      <td>168</td>\n",
              "      <td>35</td>\n",
              "      <td>1401 / 4 / 1</td>\n",
              "      <td>C07B0S22621.jpg</td>\n",
              "    </tr>\n",
              "  </tbody>\n",
              "</table>\n",
              "<p>2766 rows × 6 columns</p>\n",
              "</div>\n",
              "    <div class=\"colab-df-buttons\">\n",
              "\n",
              "  <div class=\"colab-df-container\">\n",
              "    <button class=\"colab-df-convert\" onclick=\"convertToInteractive('df-b731d9ea-2ab8-438d-92a7-c94785d187dd')\"\n",
              "            title=\"Convert this dataframe to an interactive table.\"\n",
              "            style=\"display:none;\">\n",
              "\n",
              "  <svg xmlns=\"http://www.w3.org/2000/svg\" height=\"24px\" viewBox=\"0 -960 960 960\">\n",
              "    <path d=\"M120-120v-720h720v720H120Zm60-500h600v-160H180v160Zm220 220h160v-160H400v160Zm0 220h160v-160H400v160ZM180-400h160v-160H180v160Zm440 0h160v-160H620v160ZM180-180h160v-160H180v160Zm440 0h160v-160H620v160Z\"/>\n",
              "  </svg>\n",
              "    </button>\n",
              "\n",
              "  <style>\n",
              "    .colab-df-container {\n",
              "      display:flex;\n",
              "      gap: 12px;\n",
              "    }\n",
              "\n",
              "    .colab-df-convert {\n",
              "      background-color: #E8F0FE;\n",
              "      border: none;\n",
              "      border-radius: 50%;\n",
              "      cursor: pointer;\n",
              "      display: none;\n",
              "      fill: #1967D2;\n",
              "      height: 32px;\n",
              "      padding: 0 0 0 0;\n",
              "      width: 32px;\n",
              "    }\n",
              "\n",
              "    .colab-df-convert:hover {\n",
              "      background-color: #E2EBFA;\n",
              "      box-shadow: 0px 1px 2px rgba(60, 64, 67, 0.3), 0px 1px 3px 1px rgba(60, 64, 67, 0.15);\n",
              "      fill: #174EA6;\n",
              "    }\n",
              "\n",
              "    .colab-df-buttons div {\n",
              "      margin-bottom: 4px;\n",
              "    }\n",
              "\n",
              "    [theme=dark] .colab-df-convert {\n",
              "      background-color: #3B4455;\n",
              "      fill: #D2E3FC;\n",
              "    }\n",
              "\n",
              "    [theme=dark] .colab-df-convert:hover {\n",
              "      background-color: #434B5C;\n",
              "      box-shadow: 0px 1px 3px 1px rgba(0, 0, 0, 0.15);\n",
              "      filter: drop-shadow(0px 1px 2px rgba(0, 0, 0, 0.3));\n",
              "      fill: #FFFFFF;\n",
              "    }\n",
              "  </style>\n",
              "\n",
              "    <script>\n",
              "      const buttonEl =\n",
              "        document.querySelector('#df-b731d9ea-2ab8-438d-92a7-c94785d187dd button.colab-df-convert');\n",
              "      buttonEl.style.display =\n",
              "        google.colab.kernel.accessAllowed ? 'block' : 'none';\n",
              "\n",
              "      async function convertToInteractive(key) {\n",
              "        const element = document.querySelector('#df-b731d9ea-2ab8-438d-92a7-c94785d187dd');\n",
              "        const dataTable =\n",
              "          await google.colab.kernel.invokeFunction('convertToInteractive',\n",
              "                                                    [key], {});\n",
              "        if (!dataTable) return;\n",
              "\n",
              "        const docLinkHtml = 'Like what you see? Visit the ' +\n",
              "          '<a target=\"_blank\" href=https://colab.research.google.com/notebooks/data_table.ipynb>data table notebook</a>'\n",
              "          + ' to learn more about interactive tables.';\n",
              "        element.innerHTML = '';\n",
              "        dataTable['output_type'] = 'display_data';\n",
              "        await google.colab.output.renderOutput(dataTable, element);\n",
              "        const docLink = document.createElement('div');\n",
              "        docLink.innerHTML = docLinkHtml;\n",
              "        element.appendChild(docLink);\n",
              "      }\n",
              "    </script>\n",
              "  </div>\n",
              "\n",
              "\n",
              "<div id=\"df-122caa64-9dc1-4594-b410-c7282daeb7e0\">\n",
              "  <button class=\"colab-df-quickchart\" onclick=\"quickchart('df-122caa64-9dc1-4594-b410-c7282daeb7e0')\"\n",
              "            title=\"Suggest charts\"\n",
              "            style=\"display:none;\">\n",
              "\n",
              "<svg xmlns=\"http://www.w3.org/2000/svg\" height=\"24px\"viewBox=\"0 0 24 24\"\n",
              "     width=\"24px\">\n",
              "    <g>\n",
              "        <path d=\"M19 3H5c-1.1 0-2 .9-2 2v14c0 1.1.9 2 2 2h14c1.1 0 2-.9 2-2V5c0-1.1-.9-2-2-2zM9 17H7v-7h2v7zm4 0h-2V7h2v10zm4 0h-2v-4h2v4z\"/>\n",
              "    </g>\n",
              "</svg>\n",
              "  </button>\n",
              "\n",
              "<style>\n",
              "  .colab-df-quickchart {\n",
              "      --bg-color: #E8F0FE;\n",
              "      --fill-color: #1967D2;\n",
              "      --hover-bg-color: #E2EBFA;\n",
              "      --hover-fill-color: #174EA6;\n",
              "      --disabled-fill-color: #AAA;\n",
              "      --disabled-bg-color: #DDD;\n",
              "  }\n",
              "\n",
              "  [theme=dark] .colab-df-quickchart {\n",
              "      --bg-color: #3B4455;\n",
              "      --fill-color: #D2E3FC;\n",
              "      --hover-bg-color: #434B5C;\n",
              "      --hover-fill-color: #FFFFFF;\n",
              "      --disabled-bg-color: #3B4455;\n",
              "      --disabled-fill-color: #666;\n",
              "  }\n",
              "\n",
              "  .colab-df-quickchart {\n",
              "    background-color: var(--bg-color);\n",
              "    border: none;\n",
              "    border-radius: 50%;\n",
              "    cursor: pointer;\n",
              "    display: none;\n",
              "    fill: var(--fill-color);\n",
              "    height: 32px;\n",
              "    padding: 0;\n",
              "    width: 32px;\n",
              "  }\n",
              "\n",
              "  .colab-df-quickchart:hover {\n",
              "    background-color: var(--hover-bg-color);\n",
              "    box-shadow: 0 1px 2px rgba(60, 64, 67, 0.3), 0 1px 3px 1px rgba(60, 64, 67, 0.15);\n",
              "    fill: var(--button-hover-fill-color);\n",
              "  }\n",
              "\n",
              "  .colab-df-quickchart-complete:disabled,\n",
              "  .colab-df-quickchart-complete:disabled:hover {\n",
              "    background-color: var(--disabled-bg-color);\n",
              "    fill: var(--disabled-fill-color);\n",
              "    box-shadow: none;\n",
              "  }\n",
              "\n",
              "  .colab-df-spinner {\n",
              "    border: 2px solid var(--fill-color);\n",
              "    border-color: transparent;\n",
              "    border-bottom-color: var(--fill-color);\n",
              "    animation:\n",
              "      spin 1s steps(1) infinite;\n",
              "  }\n",
              "\n",
              "  @keyframes spin {\n",
              "    0% {\n",
              "      border-color: transparent;\n",
              "      border-bottom-color: var(--fill-color);\n",
              "      border-left-color: var(--fill-color);\n",
              "    }\n",
              "    20% {\n",
              "      border-color: transparent;\n",
              "      border-left-color: var(--fill-color);\n",
              "      border-top-color: var(--fill-color);\n",
              "    }\n",
              "    30% {\n",
              "      border-color: transparent;\n",
              "      border-left-color: var(--fill-color);\n",
              "      border-top-color: var(--fill-color);\n",
              "      border-right-color: var(--fill-color);\n",
              "    }\n",
              "    40% {\n",
              "      border-color: transparent;\n",
              "      border-right-color: var(--fill-color);\n",
              "      border-top-color: var(--fill-color);\n",
              "    }\n",
              "    60% {\n",
              "      border-color: transparent;\n",
              "      border-right-color: var(--fill-color);\n",
              "    }\n",
              "    80% {\n",
              "      border-color: transparent;\n",
              "      border-right-color: var(--fill-color);\n",
              "      border-bottom-color: var(--fill-color);\n",
              "    }\n",
              "    90% {\n",
              "      border-color: transparent;\n",
              "      border-bottom-color: var(--fill-color);\n",
              "    }\n",
              "  }\n",
              "</style>\n",
              "\n",
              "  <script>\n",
              "    async function quickchart(key) {\n",
              "      const quickchartButtonEl =\n",
              "        document.querySelector('#' + key + ' button');\n",
              "      quickchartButtonEl.disabled = true;  // To prevent multiple clicks.\n",
              "      quickchartButtonEl.classList.add('colab-df-spinner');\n",
              "      try {\n",
              "        const charts = await google.colab.kernel.invokeFunction(\n",
              "            'suggestCharts', [key], {});\n",
              "      } catch (error) {\n",
              "        console.error('Error during call to suggestCharts:', error);\n",
              "      }\n",
              "      quickchartButtonEl.classList.remove('colab-df-spinner');\n",
              "      quickchartButtonEl.classList.add('colab-df-quickchart-complete');\n",
              "    }\n",
              "    (() => {\n",
              "      let quickchartButtonEl =\n",
              "        document.querySelector('#df-122caa64-9dc1-4594-b410-c7282daeb7e0 button');\n",
              "      quickchartButtonEl.style.display =\n",
              "        google.colab.kernel.accessAllowed ? 'block' : 'none';\n",
              "    })();\n",
              "  </script>\n",
              "</div>\n",
              "    </div>\n",
              "  </div>\n"
            ],
            "application/vnd.google.colaboratory.intrinsic+json": {
              "type": "dataframe",
              "variable_name": "info_image",
              "summary": "{\n  \"name\": \"info_image\",\n  \"rows\": 2766,\n  \"fields\": [\n    {\n      \"column\": \"x_coord\",\n      \"properties\": {\n        \"dtype\": \"number\",\n        \"std\": 57,\n        \"min\": 675,\n        \"max\": 849,\n        \"num_unique_values\": 18,\n        \"samples\": [\n          675,\n          800,\n          807\n        ],\n        \"semantic_type\": \"\",\n        \"description\": \"\"\n      }\n    },\n    {\n      \"column\": \"y_coord\",\n      \"properties\": {\n        \"dtype\": \"number\",\n        \"std\": 118,\n        \"min\": 216,\n        \"max\": 565,\n        \"num_unique_values\": 6,\n        \"samples\": [\n          216,\n          300,\n          565\n        ],\n        \"semantic_type\": \"\",\n        \"description\": \"\"\n      }\n    },\n    {\n      \"column\": \"W\",\n      \"properties\": {\n        \"dtype\": \"number\",\n        \"std\": 57,\n        \"min\": 56,\n        \"max\": 230,\n        \"num_unique_values\": 18,\n        \"samples\": [\n          230,\n          105,\n          98\n        ],\n        \"semantic_type\": \"\",\n        \"description\": \"\"\n      }\n    },\n    {\n      \"column\": \"H\",\n      \"properties\": {\n        \"dtype\": \"number\",\n        \"std\": 1,\n        \"min\": 35,\n        \"max\": 40,\n        \"num_unique_values\": 2,\n        \"samples\": [\n          35,\n          40\n        ],\n        \"semantic_type\": \"\",\n        \"description\": \"\"\n      }\n    },\n    {\n      \"column\": \"text\",\n      \"properties\": {\n        \"dtype\": \"string\",\n        \"num_unique_values\": 1761,\n        \"samples\": [\n          \"1583204199\",\n          \"1199539266\"\n        ],\n        \"semantic_type\": \"\",\n        \"description\": \"\"\n      }\n    },\n    {\n      \"column\": \"filename\",\n      \"properties\": {\n        \"dtype\": \"category\",\n        \"num_unique_values\": 461,\n        \"samples\": [\n          \"C07B0S12386.jpg\",\n          \"C07B0S12191.jpg\"\n        ],\n        \"semantic_type\": \"\",\n        \"description\": \"\"\n      }\n    }\n  ]\n}"
            }
          },
          "metadata": {},
          "execution_count": 5
        }
      ]
    },
    {
      "cell_type": "code",
      "source": [
        "def train_validate_test_split(df, train_percent=.6, validate_percent=.2, seed=None):\n",
        "    np.random.seed(seed)\n",
        "    perm = np.random.permutation(df.index)\n",
        "    m = len(df.index)\n",
        "    train_end = int(train_percent * m)\n",
        "    validate_end = int(validate_percent * m) + train_end\n",
        "    train = df.iloc[perm[:train_end]]\n",
        "    validate = df.iloc[perm[train_end:validate_end]]\n",
        "    test = df.iloc[perm[validate_end:]]\n",
        "    return train, validate, test\n",
        "\n",
        "import numpy as np\n",
        "# train, validate, test = train_validate_test_split(info_image)"
      ],
      "metadata": {
        "id": "fnaBXqCBArsb"
      },
      "execution_count": null,
      "outputs": []
    },
    {
      "cell_type": "code",
      "source": [
        "path_image = '/content/without background/Identity Card2/img/'\n",
        "S = test\n",
        "f = open('/content/test.txt' , 'w' , encoding='utf-8')\n",
        "for i in range(len(S)):\n",
        "  x,y,w,h = S.iloc[i][:4]\n",
        "  filename = S.iloc[i].filename\n",
        "  text = S.iloc[i].text\n",
        "  image = cv2.imread(path_image+filename)\n",
        "  crop_image = image[y:y+h , x:x+w+10]\n",
        "  cv2.imwrite('/content/data/test/'+str(i)+'.jpg' , crop_image)\n",
        "  f.write(str(i)+'.jpg\\t'+text.replace('\\n' , '')+'\\n')"
      ],
      "metadata": {
        "id": "1TDSIXyhwV11"
      },
      "execution_count": 15,
      "outputs": []
    },
    {
      "cell_type": "code",
      "source": [
        "img = cv2.imread('/content/data/0.jpg')\n",
        "cv2_imshow(img)"
      ],
      "metadata": {
        "colab": {
          "base_uri": "https://localhost:8080/",
          "height": 57
        },
        "id": "neCOjL2Lygh-",
        "outputId": "5a9d8336-f959-4c26-dcb5-2db043db255a"
      },
      "execution_count": 20,
      "outputs": [
        {
          "output_type": "display_data",
          "data": {
            "text/plain": [
              "<PIL.Image.Image image mode=RGB size=240x40>"
            ],
            "image/png": "[encoded data removed]"
          },
          "metadata": {}
        }
      ]
    },
    {
      "cell_type": "code",
      "source": [
        "import shutil\n",
        "shutil.move('/content/valid.txt' , '/content/data')"
      ],
      "metadata": {
        "colab": {
          "base_uri": "https://localhost:8080/",
          "height": 35
        },
        "id": "amT8-pol-hbh",
        "outputId": "797bc3a8-a013-4433-e141-4d8aa7b336f9"
      },
      "execution_count": 18,
      "outputs": [
        {
          "output_type": "execute_result",
          "data": {
            "text/plain": [
              "'/content/data/valid.txt'"
            ],
            "application/vnd.google.colaboratory.intrinsic+json": {
              "type": "string"
            }
          },
          "metadata": {},
          "execution_count": 18
        }
      ]
    },
    {
      "cell_type": "code",
      "source": [
        "!cp '/content/data' -r '/content/drive/MyDrive'"
      ],
      "metadata": {
        "id": "awl02FDe-__4"
      },
      "execution_count": 20,
      "outputs": []
    },
    {
      "cell_type": "code",
      "source": [
        "from glob import glob\n",
        "len(glob('/content/drive/MyDrive/data/train/*'))"
      ],
      "metadata": {
        "id": "8kNA0aE5GW4l",
        "outputId": "1c734aeb-ffe2-4c20-ab54-7a3d155eb502",
        "colab": {
          "base_uri": "https://localhost:8080/"
        }
      },
      "execution_count": 21,
      "outputs": [
        {
          "output_type": "execute_result",
          "data": {
            "text/plain": [
              "1659"
            ]
          },
          "metadata": {},
          "execution_count": 21
        }
      ]
    },
    {
      "cell_type": "code",
      "source": [],
      "metadata": {
        "id": "aTWBc0GAGzRn"
      },
      "execution_count": null,
      "outputs": []
    }
  ]
}