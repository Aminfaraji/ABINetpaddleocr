{
  "nbformat": 4,
  "nbformat_minor": 0,
  "metadata": {
    "colab": {
      "provenance": [],
      "gpuType": "T4",
      "authorship_tag": "ABX9TyN8kvvW0N6HEmYtVMmLzEfO",
      "include_colab_link": true
    },
    "kernelspec": {
      "name": "python3",
      "display_name": "Python 3"
    },
    "language_info": {
      "name": "python"
    },
    "accelerator": "GPU"
  },
  "cells": [
    {
      "cell_type": "markdown",
      "metadata": {
        "id": "view-in-github",
        "colab_type": "text"
      },
      "source": [
        "<a href=\"https://colab.research.google.com/github/Aminfaraji/ABINetpaddleocr/blob/main/ABINetpaddleocr.ipynb\" target=\"_parent\"><img src=\"https://colab.research.google.com/assets/colab-badge.svg\" alt=\"Open In Colab\"/></a>"
      ]
    },
    {
      "cell_type": "code",
      "execution_count": 1,
      "metadata": {
        "colab": {
          "base_uri": "https://localhost:8080/"
        },
        "id": "RW2THkseQ0KI",
        "outputId": "1473467f-e87a-4995-fed3-4520b379dcb4"
      },
      "outputs": [
        {
          "output_type": "stream",
          "name": "stdout",
          "text": [
            "Mounted at /content/drive\n"
          ]
        }
      ],
      "source": [
        "from google.colab import drive\n",
        "drive.mount('/content/drive')"
      ]
    },
    {
      "cell_type": "code",
      "source": [
        "!python -m pip install paddlepaddle-gpu==2.4.1.post112 -f https://www.paddlepaddle.org.cn/whl/linux/mkl/avx/stable.html\n",
        "!git clone https://github.com/PaddlePaddle/PaddleOCR.git\n",
        "%cd /content/PaddleOCR\n",
        "!pip install -r requirements.txt"
      ],
      "metadata": {
        "id": "SApL4hsYRN4t"
      },
      "execution_count": null,
      "outputs": []
    },
    {
      "cell_type": "code",
      "source": [
        "%cd /content/PaddleOCR\n",
        "!mkdir pretrained_model\n",
        "%cd pretrained_model/\n",
        "!wget https://paddleocr.bj.bcebos.com/rec_r45_abinet_train.tar\n",
        "!tar -xf rec_r45_abinet_train.tar && rm -rf rec_r45_abinet_train.tar"
      ],
      "metadata": {
        "id": "RX7XyN3HRhmF"
      },
      "execution_count": null,
      "outputs": []
    },
    {
      "cell_type": "code",
      "source": [
        "!rm -rf /content/PaddleOCR/train_data"
      ],
      "metadata": {
        "id": "VN7dK07qD56i"
      },
      "execution_count": 56,
      "outputs": []
    },
    {
      "cell_type": "code",
      "source": [
        "# !mkdir /content/PaddleOCR/train_data\n",
        "# !unzip /content/drive/MyDrive/IDPL-PFOD2-dataset/train.zip -d /content/PaddleOCR/train_data\n",
        "# !unzip /content/drive/MyDrive/IDPL-PFOD2-dataset/val.zip -d /content/PaddleOCR/train_data\n",
        "!cp /content/drive/MyDrive/IDPL-PFOD2-dataset/val.txt -r /content/PaddleOCR/train_data\n",
        "!cp /content/drive/MyDrive/IDPL-PFOD2-dataset/train.txt -r /content/PaddleOCR/train_data\n"
      ],
      "metadata": {
        "id": "Rsh9qOVvVoWU"
      },
      "execution_count": 60,
      "outputs": []
    },
    {
      "cell_type": "code",
      "source": [
        "import cv2\n",
        "import os\n",
        "#from imutils import perspective\n",
        "import numpy as np\n",
        "import json\n",
        "from tqdm import tqdm\n",
        "import matplotlib.pyplot as plt\n",
        "from imutils import perspective"
      ],
      "metadata": {
        "id": "9dejnwObV1LI"
      },
      "execution_count": 3,
      "outputs": []
    },
    {
      "cell_type": "code",
      "source": [
        "!python3 tools/train.py -c /content/PaddleOCR/pretrained_model/rec_r45_abinet_train/config.yml -o Global.pretrained_model=/content/PaddleOCR/pretrained_model/rec_r45_abinet_train/best_accuracy"
      ],
      "metadata": {
        "colab": {
          "base_uri": "https://localhost:8080/"
        },
        "id": "9n1t7So9Ynuv",
        "outputId": "150e2452-321d-430b-e7c1-5a8d2b0c8b13"
      },
      "execution_count": 80,
      "outputs": [
        {
          "output_type": "stream",
          "name": "stdout",
          "text": [
            "/usr/local/lib/python3.10/dist-packages/pkg_resources/__init__.py:121: DeprecationWarning: pkg_resources is deprecated as an API\n",
            "  warnings.warn(\"pkg_resources is deprecated as an API\", DeprecationWarning)\n",
            "/usr/local/lib/python3.10/dist-packages/pkg_resources/__init__.py:2870: DeprecationWarning: Deprecated call to `pkg_resources.declare_namespace('google')`.\n",
            "Implementing implicit namespace packages (as specified in PEP 420) is preferred to `pkg_resources.declare_namespace`. See https://setuptools.pypa.io/en/latest/references/keywords.html#keyword-namespace-packages\n",
            "  declare_namespace(pkg)\n",
            "/usr/local/lib/python3.10/dist-packages/pkg_resources/__init__.py:2870: DeprecationWarning: Deprecated call to `pkg_resources.declare_namespace('google.cloud')`.\n",
            "Implementing implicit namespace packages (as specified in PEP 420) is preferred to `pkg_resources.declare_namespace`. See https://setuptools.pypa.io/en/latest/references/keywords.html#keyword-namespace-packages\n",
            "  declare_namespace(pkg)\n",
            "/usr/local/lib/python3.10/dist-packages/pkg_resources/__init__.py:2349: DeprecationWarning: Deprecated call to `pkg_resources.declare_namespace('google')`.\n",
            "Implementing implicit namespace packages (as specified in PEP 420) is preferred to `pkg_resources.declare_namespace`. See https://setuptools.pypa.io/en/latest/references/keywords.html#keyword-namespace-packages\n",
            "  declare_namespace(parent)\n",
            "/usr/local/lib/python3.10/dist-packages/pkg_resources/__init__.py:2870: DeprecationWarning: Deprecated call to `pkg_resources.declare_namespace('google.logging')`.\n",
            "Implementing implicit namespace packages (as specified in PEP 420) is preferred to `pkg_resources.declare_namespace`. See https://setuptools.pypa.io/en/latest/references/keywords.html#keyword-namespace-packages\n",
            "  declare_namespace(pkg)\n",
            "/usr/local/lib/python3.10/dist-packages/pkg_resources/__init__.py:2870: DeprecationWarning: Deprecated call to `pkg_resources.declare_namespace('google.iam')`.\n",
            "Implementing implicit namespace packages (as specified in PEP 420) is preferred to `pkg_resources.declare_namespace`. See https://setuptools.pypa.io/en/latest/references/keywords.html#keyword-namespace-packages\n",
            "  declare_namespace(pkg)\n",
            "/usr/local/lib/python3.10/dist-packages/pkg_resources/__init__.py:2870: DeprecationWarning: Deprecated call to `pkg_resources.declare_namespace('mpl_toolkits')`.\n",
            "Implementing implicit namespace packages (as specified in PEP 420) is preferred to `pkg_resources.declare_namespace`. See https://setuptools.pypa.io/en/latest/references/keywords.html#keyword-namespace-packages\n",
            "  declare_namespace(pkg)\n",
            "/usr/local/lib/python3.10/dist-packages/pkg_resources/__init__.py:2870: DeprecationWarning: Deprecated call to `pkg_resources.declare_namespace('sphinxcontrib')`.\n",
            "Implementing implicit namespace packages (as specified in PEP 420) is preferred to `pkg_resources.declare_namespace`. See https://setuptools.pypa.io/en/latest/references/keywords.html#keyword-namespace-packages\n",
            "  declare_namespace(pkg)\n",
            "[2023/09/29 11:12:48] ppocr INFO: Architecture : \n",
            "[2023/09/29 11:12:48] ppocr INFO:     Backbone : \n",
            "[2023/09/29 11:12:48] ppocr INFO:         name : ResNet45\n",
            "[2023/09/29 11:12:48] ppocr INFO:     Head : \n",
            "[2023/09/29 11:12:48] ppocr INFO:         iter_size : 3\n",
            "[2023/09/29 11:12:48] ppocr INFO:         name : ABINetHead\n",
            "[2023/09/29 11:12:48] ppocr INFO:         use_lang : True\n",
            "[2023/09/29 11:12:48] ppocr INFO:     Transform : None\n",
            "[2023/09/29 11:12:48] ppocr INFO:     algorithm : ABINet\n",
            "[2023/09/29 11:12:48] ppocr INFO:     in_channels : 3\n",
            "[2023/09/29 11:12:48] ppocr INFO:     model_type : rec\n",
            "[2023/09/29 11:12:48] ppocr INFO: Eval : \n",
            "[2023/09/29 11:12:48] ppocr INFO:     dataset : \n",
            "[2023/09/29 11:12:48] ppocr INFO:         data_dir : /content/PaddleOCR/train_data/val\n",
            "[2023/09/29 11:12:48] ppocr INFO:         label_file_list : /content/PaddleOCR/train_data/val.txt\n",
            "[2023/09/29 11:12:48] ppocr INFO:         name : SimpleDataSet\n",
            "[2023/09/29 11:12:48] ppocr INFO:         transforms : \n",
            "[2023/09/29 11:12:48] ppocr INFO:             DecodeImage : \n",
            "[2023/09/29 11:12:48] ppocr INFO:                 channel_first : False\n",
            "[2023/09/29 11:12:48] ppocr INFO:                 img_mode : RGB\n",
            "[2023/09/29 11:12:48] ppocr INFO:             ABINetLabelEncode : None\n",
            "[2023/09/29 11:12:48] ppocr INFO:             ABINetRecResizeImg : \n",
            "[2023/09/29 11:12:48] ppocr INFO:                 image_shape : [3, 32, 128]\n",
            "[2023/09/29 11:12:48] ppocr INFO:                 padding : False\n",
            "[2023/09/29 11:12:48] ppocr INFO:             KeepKeys : \n",
            "[2023/09/29 11:12:48] ppocr INFO:                 keep_keys : ['image', 'label', 'length']\n",
            "[2023/09/29 11:12:48] ppocr INFO:     loader : \n",
            "[2023/09/29 11:12:48] ppocr INFO:         batch_size_per_card : 256\n",
            "[2023/09/29 11:12:48] ppocr INFO:         drop_last : False\n",
            "[2023/09/29 11:12:48] ppocr INFO:         num_workers : 4\n",
            "[2023/09/29 11:12:48] ppocr INFO:         shuffle : False\n",
            "[2023/09/29 11:12:48] ppocr INFO:         use_shared_memory : False\n",
            "[2023/09/29 11:12:48] ppocr INFO: Global : \n",
            "[2023/09/29 11:12:48] ppocr INFO:     cal_metric_during_train : True\n",
            "[2023/09/29 11:12:48] ppocr INFO:     character_dict_path : /content/drive/MyDrive/IDPL-PFOD2-dataset/char.txt\n",
            "[2023/09/29 11:12:48] ppocr INFO:     character_type : en\n",
            "[2023/09/29 11:12:48] ppocr INFO:     checkpoints : None\n",
            "[2023/09/29 11:12:48] ppocr INFO:     distributed : False\n",
            "[2023/09/29 11:12:48] ppocr INFO:     epoch_num : 10\n",
            "[2023/09/29 11:12:48] ppocr INFO:     eval_batch_step : [0, 200]\n",
            "[2023/09/29 11:12:48] ppocr INFO:     infer_img : doc/imgs_words_en/word_10.png\n",
            "[2023/09/29 11:12:48] ppocr INFO:     infer_mode : False\n",
            "[2023/09/29 11:12:48] ppocr INFO:     log_smooth_window : 1\n",
            "[2023/09/29 11:12:48] ppocr INFO:     max_text_length : 25\n",
            "[2023/09/29 11:12:48] ppocr INFO:     pretrained_model : /content/PaddleOCR/pretrained_model/rec_r45_abinet_train/best_accuracy\n",
            "[2023/09/29 11:12:48] ppocr INFO:     print_batch_step : 10\n",
            "[2023/09/29 11:12:48] ppocr INFO:     save_epoch_step : 1\n",
            "[2023/09/29 11:12:48] ppocr INFO:     save_inference_dir : None\n",
            "[2023/09/29 11:12:48] ppocr INFO:     save_model_dir : ./output/rec/r45_abinet/\n",
            "[2023/09/29 11:12:48] ppocr INFO:     save_res_path : ./output/rec/predicts_abinet.txt\n",
            "[2023/09/29 11:12:48] ppocr INFO:     use_gpu : True\n",
            "[2023/09/29 11:12:48] ppocr INFO:     use_space_char : False\n",
            "[2023/09/29 11:12:48] ppocr INFO:     use_visualdl : False\n",
            "[2023/09/29 11:12:48] ppocr INFO: Loss : \n",
            "[2023/09/29 11:12:48] ppocr INFO:     ignore_index : 100\n",
            "[2023/09/29 11:12:48] ppocr INFO:     name : CELoss\n",
            "[2023/09/29 11:12:48] ppocr INFO:     smoothing : False\n",
            "[2023/09/29 11:12:48] ppocr INFO: Metric : \n",
            "[2023/09/29 11:12:48] ppocr INFO:     main_indicator : acc\n",
            "[2023/09/29 11:12:48] ppocr INFO:     name : RecMetric\n",
            "[2023/09/29 11:12:48] ppocr INFO: Optimizer : \n",
            "[2023/09/29 11:12:48] ppocr INFO:     beta1 : 0.9\n",
            "[2023/09/29 11:12:48] ppocr INFO:     beta2 : 0.99\n",
            "[2023/09/29 11:12:48] ppocr INFO:     clip_norm : 20.0\n",
            "[2023/09/29 11:12:48] ppocr INFO:     lr : \n",
            "[2023/09/29 11:12:48] ppocr INFO:         decay_epochs : [6]\n",
            "[2023/09/29 11:12:48] ppocr INFO:         name : Piecewise\n",
            "[2023/09/29 11:12:48] ppocr INFO:         values : [0.0001, 1e-05]\n",
            "[2023/09/29 11:12:48] ppocr INFO:     name : Adam\n",
            "[2023/09/29 11:12:48] ppocr INFO:     regularizer : \n",
            "[2023/09/29 11:12:48] ppocr INFO:         factor : 0.0\n",
            "[2023/09/29 11:12:48] ppocr INFO:         name : L2\n",
            "[2023/09/29 11:12:48] ppocr INFO: PostProcess : \n",
            "[2023/09/29 11:12:48] ppocr INFO:     name : ABINetLabelDecode\n",
            "[2023/09/29 11:12:48] ppocr INFO: Train : \n",
            "[2023/09/29 11:12:48] ppocr INFO:     dataset : \n",
            "[2023/09/29 11:12:48] ppocr INFO:         data_dir : /content/PaddleOCR/train_data/train/\n",
            "[2023/09/29 11:12:48] ppocr INFO:         label_file_list : /content/PaddleOCR/train_data/train.txt\n",
            "[2023/09/29 11:12:48] ppocr INFO:         name : SimpleDataSet\n",
            "[2023/09/29 11:12:48] ppocr INFO:         transforms : \n",
            "[2023/09/29 11:12:48] ppocr INFO:             DecodeImage : \n",
            "[2023/09/29 11:12:48] ppocr INFO:                 channel_first : False\n",
            "[2023/09/29 11:12:48] ppocr INFO:                 img_mode : RGB\n",
            "[2023/09/29 11:12:48] ppocr INFO:             ABINetRecAug : None\n",
            "[2023/09/29 11:12:48] ppocr INFO:             ABINetLabelEncode : None\n",
            "[2023/09/29 11:12:48] ppocr INFO:             ABINetRecResizeImg : \n",
            "[2023/09/29 11:12:48] ppocr INFO:                 image_shape : [3, 32, 128]\n",
            "[2023/09/29 11:12:48] ppocr INFO:                 padding : False\n",
            "[2023/09/29 11:12:48] ppocr INFO:             KeepKeys : \n",
            "[2023/09/29 11:12:48] ppocr INFO:                 keep_keys : ['image', 'label', 'length']\n",
            "[2023/09/29 11:12:48] ppocr INFO:     loader : \n",
            "[2023/09/29 11:12:48] ppocr INFO:         batch_size_per_card : 96\n",
            "[2023/09/29 11:12:48] ppocr INFO:         drop_last : True\n",
            "[2023/09/29 11:12:48] ppocr INFO:         num_workers : 8\n",
            "[2023/09/29 11:12:48] ppocr INFO:         shuffle : True\n",
            "[2023/09/29 11:12:48] ppocr INFO: profiler_options : None\n",
            "[2023/09/29 11:12:48] ppocr INFO: train with paddle 2.4.1 and device Place(gpu:0)\n",
            "[2023/09/29 11:12:48] ppocr INFO: Initialize indexs of datasets:/content/PaddleOCR/train_data/train.txt\n",
            "list index out of range\n",
            "[2023/09/29 11:12:51] ppocr INFO: Initialize indexs of datasets:/content/PaddleOCR/train_data/val.txt\n",
            "W0929 11:12:51.277432 82890 gpu_resources.cc:61] Please NOTE: device: 0, GPU Compute Capability: 7.5, Driver API Version: 12.0, Runtime API Version: 11.8\n",
            "W0929 11:12:51.278980 82890 gpu_resources.cc:91] device: 0, cuDNN Version: 8.9.\n",
            "[2023/09/29 11:12:53] ppocr INFO: train dataloader has 13488 iters\n",
            "[2023/09/29 11:12:53] ppocr INFO: valid dataloader has 1262 iters\n",
            "[2023/09/29 11:12:54] ppocr WARNING: The shape of model params head.cls.weight [512, 154] not matched with loaded params head.cls.weight [512, 37] !\n",
            "[2023/09/29 11:12:54] ppocr WARNING: The shape of model params head.cls.bias [154] not matched with loaded params head.cls.bias [37] !\n",
            "[2023/09/29 11:12:54] ppocr WARNING: The shape of model params head.language.proj.weight [154, 512] not matched with loaded params head.language.proj.weight [37, 512] !\n",
            "[2023/09/29 11:12:54] ppocr WARNING: The shape of model params head.language.cls.weight [512, 154] not matched with loaded params head.language.cls.weight [512, 37] !\n",
            "[2023/09/29 11:12:54] ppocr WARNING: The shape of model params head.language.cls.bias [154] not matched with loaded params head.language.cls.bias [37] !\n",
            "[2023/09/29 11:12:54] ppocr WARNING: The shape of model params head.cls_align.weight [512, 154] not matched with loaded params head.cls_align.weight [512, 37] !\n",
            "[2023/09/29 11:12:54] ppocr WARNING: The shape of model params head.cls_align.bias [154] not matched with loaded params head.cls_align.bias [37] !\n",
            "[2023/09/29 11:12:54] ppocr INFO: load pretrain successful from /content/PaddleOCR/pretrained_model/rec_r45_abinet_train/best_accuracy\n",
            "[2023/09/29 11:12:54] ppocr INFO: During the training process, after the 0th iteration, an evaluation is run every 200 iterations\n",
            "[2023/09/29 11:13:14] ppocr INFO: epoch: [1/10], global_step: 10, lr: 0.000100, acc: 0.000000, norm_edit_dis: 0.108173, align_loss: 3.986755, lang_loss: 4.747332, vision_loss: 3.944822, loss: 12.678907, avg_reader_cost: 0.41002 s, avg_batch_cost: 1.98901 s, avg_samples: 96.0, ips: 48.26517 samples/s, eta: 3 days, 2:30:58\n",
            "Traceback (most recent call last):\n",
            "  File \"/content/PaddleOCR/tools/train.py\", line 227, in <module>\n",
            "    main(config, device, logger, vdl_writer)\n",
            "  File \"/content/PaddleOCR/tools/train.py\", line 198, in main\n",
            "    program.train(config, train_dataloader, valid_dataloader, device, model,\n",
            "  File \"/content/PaddleOCR/tools/program.py\", line 311, in train\n",
            "    optimizer.step()\n",
            "  File \"<decorator-gen-303>\", line 2, in step\n",
            "  File \"/usr/local/lib/python3.10/dist-packages/paddle/fluid/dygraph/base.py\", line 319, in __impl__\n",
            "    return func(*args, **kwargs)\n",
            "  File \"<decorator-gen-301>\", line 2, in step\n",
            "  File \"/usr/local/lib/python3.10/dist-packages/paddle/fluid/wrapped_decorator.py\", line 26, in __impl__\n",
            "    return wrapped_func(*args, **kwargs)\n",
            "  File \"/usr/local/lib/python3.10/dist-packages/paddle/fluid/framework.py\", line 534, in __impl__\n",
            "    return func(*args, **kwargs)\n",
            "  File \"/usr/local/lib/python3.10/dist-packages/paddle/optimizer/adam.py\", line 546, in step\n",
            "    optimize_ops = self._apply_optimize(\n",
            "  File \"/usr/local/lib/python3.10/dist-packages/paddle/optimizer/optimizer.py\", line 1152, in _apply_optimize\n",
            "    params_grads = self._grad_clip(params_grads)\n",
            "  File \"/usr/local/lib/python3.10/dist-packages/paddle/fluid/clip.py\", line 193, in __call__\n",
            "    return self._dygraph_clip(params_grads)\n",
            "  File \"<decorator-gen-70>\", line 2, in _dygraph_clip\n",
            "  File \"/usr/local/lib/python3.10/dist-packages/paddle/fluid/dygraph/base.py\", line 319, in __impl__\n",
            "    return func(*args, **kwargs)\n",
            "  File \"/usr/local/lib/python3.10/dist-packages/paddle/fluid/clip.py\", line 374, in _dygraph_clip\n",
            "    new_grad = layers.clip_by_norm(x=g, max_norm=self.clip_norm)\n",
            "  File \"/usr/local/lib/python3.10/dist-packages/paddle/fluid/layers/nn.py\", line 13130, in clip_by_norm\n",
            "    return _C_ops.clip_by_norm(x, max_norm)\n",
            "KeyboardInterrupt\n",
            "^C\n"
          ]
        }
      ]
    },
    {
      "cell_type": "code",
      "source": [
        "%cd /content/PaddleOCR"
      ],
      "metadata": {
        "colab": {
          "base_uri": "https://localhost:8080/"
        },
        "id": "f1SdL1oWZKZV",
        "outputId": "f7689aaf-b206-44b0-890c-67273263d8e5"
      },
      "execution_count": 63,
      "outputs": [
        {
          "output_type": "stream",
          "name": "stdout",
          "text": [
            "/content/PaddleOCR\n"
          ]
        }
      ]
    },
    {
      "cell_type": "code",
      "source": [
        "with open(r'/content/PaddleOCR/train_data/dataset_IDPL/test.txt',encoding='utf-8') as f:\n",
        "  w=open('/content/PaddleOCR/train_data/dataset_IDPL/test_new.txt','w',encoding='utf-8')\n",
        "  ff=f.readlines()\n",
        "  for i in ff:\n",
        "      index=i.find(',')\n",
        "      q=i[0:index]+' '+i[index+1:]\n",
        "      w.writelines(q)"
      ],
      "metadata": {
        "id": "zpXEQRq0apWL"
      },
      "execution_count": 40,
      "outputs": []
    },
    {
      "cell_type": "code",
      "source": [
        "import matplotlib.pyplot as plt\n",
        "img=cv2.imread('/content/PaddleOCR/train_data/train/IDback_15773.png')\n",
        "plt.imshow(img)\n",
        "img_resi=cv2.resize(img,(128,32))\n",
        "plt.imshow(img_resi)"
      ],
      "metadata": {
        "colab": {
          "base_uri": "https://localhost:8080/",
          "height": 206
        },
        "id": "Fv3aWPJZuv9M",
        "outputId": "eded4fd7-6a4e-445d-a08a-c618199191d7"
      },
      "execution_count": 71,
      "outputs": [
        {
          "output_type": "execute_result",
          "data": {
            "text/plain": [
              "<matplotlib.image.AxesImage at 0x7c6d427ba290>"
            ]
          },
          "metadata": {},
          "execution_count": 71
        },
        {
          "output_type": "display_data",
          "data": {
            "text/plain": [
              "<Figure size 640x480 with 1 Axes>"
            ],
            "image/png": "[encoded data removed]"
          },
          "metadata": {}
        }
      ]
    },
    {
      "cell_type": "code",
      "source": [
        "256//8"
      ],
      "metadata": {
        "colab": {
          "base_uri": "https://localhost:8080/"
        },
        "id": "WQRDH2jee6hk",
        "outputId": "947cfd9c-4d0d-4ace-a79c-f19a1c58ccf9"
      },
      "execution_count": 77,
      "outputs": [
        {
          "output_type": "execute_result",
          "data": {
            "text/plain": [
              "32"
            ]
          },
          "metadata": {},
          "execution_count": 77
        }
      ]
    },
    {
      "cell_type": "code",
      "source": [],
      "metadata": {
        "id": "rOjI5SSePoox"
      },
      "execution_count": null,
      "outputs": []
    }
  ]
}