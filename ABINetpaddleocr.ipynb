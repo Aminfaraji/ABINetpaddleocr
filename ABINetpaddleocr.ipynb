{
  "nbformat": 4,
  "nbformat_minor": 0,
  "metadata": {
    "colab": {
      "provenance": [],
      "gpuType": "T4",
      "authorship_tag": "ABX9TyOnfXNyN/Kz3kb/2UMuZEy6",
      "include_colab_link": true
    },
    "kernelspec": {
      "name": "python3",
      "display_name": "Python 3"
    },
    "language_info": {
      "name": "python"
    },
    "accelerator": "GPU"
  },
  "cells": [
    {
      "cell_type": "markdown",
      "metadata": {
        "id": "view-in-github",
        "colab_type": "text"
      },
      "source": [
        "<a href=\"https://colab.research.google.com/github/Aminfaraji/ABINetpaddleocr/blob/main/ABINetpaddleocr.ipynb\" target=\"_parent\"><img src=\"https://colab.research.google.com/assets/colab-badge.svg\" alt=\"Open In Colab\"/></a>"
      ]
    },
    {
      "cell_type": "code",
      "execution_count": 1,
      "metadata": {
        "colab": {
          "base_uri": "https://localhost:8080/"
        },
        "id": "RW2THkseQ0KI",
        "outputId": "653f560b-661f-4258-b5dd-dcaf6205ed7b"
      },
      "outputs": [
        {
          "output_type": "stream",
          "name": "stdout",
          "text": [
            "Mounted at /content/drive\n"
          ]
        }
      ],
      "source": [
        "from google.colab import drive\n",
        "drive.mount('/content/drive')"
      ]
    },
    {
      "cell_type": "code",
      "source": [
        "# !nvidia-smi\n",
        "# !pip install xformers==v0.0.22\n",
        "# !pip install mmcv-full==1.3.13 -f https://download.openmmlab.com/mmcv/dist/cu102/torch1.9.0/index.html\n"
      ],
      "metadata": {
        "id": "wOXGmpFGlxDI"
      },
      "execution_count": 9,
      "outputs": []
    },
    {
      "cell_type": "code",
      "source": [
        "# !python -m pip install paddlepaddle-gpu==2.4.1.post112 -f https://www.paddlepaddle.org.cn/whl/linux/mkl/avx/stable.html\n",
        "# !python -m pip install paddlepaddle-gpu==2.5.2.post102 -f https://www.paddlepaddle.org.cn/whl/linux/mkl/avx/stable.html\n",
        "!python3 -m pip install paddlepaddle-gpu==2.6.1.post120 -f https://www.paddlepaddle.org.cn/whl/linux/mkl/avx/stable.html\n",
        "!git clone https://github.com/PaddlePaddle/PaddleOCR.git\n",
        "%cd /content/PaddleOCR\n",
        "!pip install -r requirements.txt"
      ],
      "metadata": {
        "id": "SApL4hsYRN4t"
      },
      "execution_count": null,
      "outputs": []
    },
    {
      "cell_type": "code",
      "source": [
        "%cd /content/PaddleOCR\n",
        "!mkdir pretrained_model\n",
        "%cd pretrained_model/\n",
        "!unzip /content/drive/MyDrive/IDPL2.zip\n",
        "# !wget https://paddleocr.bj.bcebos.com/rec_r45_abinet_train.tar\n",
        "# !tar -xf rec_r45_abinet_train.tar && rm -rf rec_r45_abinet_train.tar"
      ],
      "metadata": {
        "id": "RX7XyN3HRhmF"
      },
      "execution_count": null,
      "outputs": []
    },
    {
      "cell_type": "code",
      "source": [
        "!rm -rf /content/PaddleOCR/train_data"
      ],
      "metadata": {
        "id": "VN7dK07qD56i"
      },
      "execution_count": null,
      "outputs": []
    },
    {
      "cell_type": "code",
      "source": [
        "# !mkdir /content/PaddleOCR/train_data\n",
        "# !unzip /content/drive/MyDrive/IDPL-PFOD2-dataset/train.zip -d /content/PaddleOCR/train_data\n",
        "# !unzip /content/drive/MyDrive/IDPL-PFOD2-dataset/val.zip -d /content/PaddleOCR/train_data\n",
        "!cp /content/drive/MyDrive/IDPL-PFOD2-dataset/val.txt -r /content/PaddleOCR/train_data\n",
        "!cp /content/drive/MyDrive/IDPL-PFOD2-dataset/train.txt -r /content/PaddleOCR/train_data\n"
      ],
      "metadata": {
        "id": "Rsh9qOVvVoWU"
      },
      "execution_count": null,
      "outputs": []
    },
    {
      "cell_type": "code",
      "source": [
        "import cv2\n",
        "import os\n",
        "#from imutils import perspective\n",
        "import numpy as np\n",
        "import json\n",
        "from tqdm import tqdm\n",
        "import matplotlib.pyplot as plt\n",
        "from imutils import perspective"
      ],
      "metadata": {
        "id": "9dejnwObV1LI"
      },
      "execution_count": 2,
      "outputs": []
    },
    {
      "cell_type": "code",
      "source": [
        "# !python3 tools/train.py -c /content/PaddleOCR/pretrained_model/rec_r45_abinet_train/config.yml -o Global.pretrained_model=/content/PaddleOCR/pretrained_model/rec_r45_abinet_train/best_accuracy"
      ],
      "metadata": {
        "id": "9n1t7So9Ynuv"
      },
      "execution_count": 3,
      "outputs": []
    },
    {
      "cell_type": "code",
      "source": [
        "%cd /content/PaddleOCR"
      ],
      "metadata": {
        "colab": {
          "base_uri": "https://localhost:8080/"
        },
        "id": "f1SdL1oWZKZV",
        "outputId": "7b4523a9-1b18-485f-f680-4f341ba144c6"
      },
      "execution_count": 4,
      "outputs": [
        {
          "output_type": "stream",
          "name": "stdout",
          "text": [
            "/content/PaddleOCR\n"
          ]
        }
      ]
    },
    {
      "cell_type": "code",
      "source": [
        "with open(r'/content/PaddleOCR/train_data/dataset_IDPL/test.txt',encoding='utf-8') as f:\n",
        "  w=open('/content/PaddleOCR/train_data/dataset_IDPL/test_new.txt','w',encoding='utf-8')\n",
        "  ff=f.readlines()\n",
        "  for i in ff:\n",
        "      index=i.find(',')\n",
        "      q=i[0:index]+' '+i[index+1:]\n",
        "      w.writelines(q)"
      ],
      "metadata": {
        "id": "zpXEQRq0apWL"
      },
      "execution_count": null,
      "outputs": []
    },
    {
      "cell_type": "code",
      "source": [
        "import matplotlib.pyplot as plt\n",
        "img=cv2.imread('/content/PaddleOCR/train_data/train/IDback_15773.png')\n",
        "plt.imshow(img)\n",
        "img_resi=cv2.resize(img,(128,32))\n",
        "plt.imshow(img_resi)"
      ],
      "metadata": {
        "colab": {
          "base_uri": "https://localhost:8080/",
          "height": 206
        },
        "id": "Fv3aWPJZuv9M",
        "outputId": "eded4fd7-6a4e-445d-a08a-c618199191d7"
      },
      "execution_count": null,
      "outputs": [
        {
          "output_type": "execute_result",
          "data": {
            "text/plain": [
              "<matplotlib.image.AxesImage at 0x7c6d427ba290>"
            ]
          },
          "metadata": {},
          "execution_count": 71
        },
        {
          "output_type": "display_data",
          "data": {
            "text/plain": [
              "<Figure size 640x480 with 1 Axes>"
            ],
            "image/png": "[encoded data removed]"
          },
          "metadata": {}
        }
      ]
    },
    {
      "cell_type": "code",
      "source": [
        "!python3 tools/infer_rec.py -c /content/PaddleOCR/pretrained_model/IDPL2/output-IDPL2-ABInet-06/config.yml -o Global.infer_img='/content/PaddleOCR/pretrained_model/IDPL2/output-IDPL2-ABInet-06/test/Lsimple_148885.png' Global.pretrained_model=/content/PaddleOCR/pretrained_model/IDPL2/output-IDPL2-ABInet-06/best_accuracy"
      ],
      "metadata": {
        "colab": {
          "base_uri": "https://localhost:8080/"
        },
        "id": "WQRDH2jee6hk",
        "outputId": "b02c4a58-e488-42d4-ff7b-8bf77e4bf64a"
      },
      "execution_count": 9,
      "outputs": [
        {
          "output_type": "stream",
          "name": "stdout",
          "text": [
            "[2024/05/25 17:32:37] ppocr INFO: Architecture : \n",
            "[2024/05/25 17:32:37] ppocr INFO:     Backbone : \n",
            "[2024/05/25 17:32:37] ppocr INFO:         name : ResNet45\n",
            "[2024/05/25 17:32:37] ppocr INFO:     Head : \n",
            "[2024/05/25 17:32:37] ppocr INFO:         iter_size : 3\n",
            "[2024/05/25 17:32:37] ppocr INFO:         name : ABINetHead\n",
            "[2024/05/25 17:32:37] ppocr INFO:         use_lang : True\n",
            "[2024/05/25 17:32:37] ppocr INFO:     Transform : None\n",
            "[2024/05/25 17:32:37] ppocr INFO:     algorithm : ABINet\n",
            "[2024/05/25 17:32:37] ppocr INFO:     in_channels : 3\n",
            "[2024/05/25 17:32:37] ppocr INFO:     model_type : rec\n",
            "[2024/05/25 17:32:37] ppocr INFO: Eval : \n",
            "[2024/05/25 17:32:37] ppocr INFO:     dataset : \n",
            "[2024/05/25 17:32:37] ppocr INFO:         data_dir : /media/admin-pc-nezamabadi/Students/Dataset-IDPL-PFOD2-merge-with-DR/test\n",
            "[2024/05/25 17:32:37] ppocr INFO:         label_file_list : ['/media/admin-pc-nezamabadi/Students/Dataset-IDPL-PFOD2-merge-with-DR/old_txt_files/test.txt']\n",
            "[2024/05/25 17:32:37] ppocr INFO:         name : SimpleDataSet\n",
            "[2024/05/25 17:32:37] ppocr INFO:         transforms : \n",
            "[2024/05/25 17:32:37] ppocr INFO:             DecodeImage : \n",
            "[2024/05/25 17:32:37] ppocr INFO:                 channel_first : False\n",
            "[2024/05/25 17:32:37] ppocr INFO:                 img_mode : RGB\n",
            "[2024/05/25 17:32:37] ppocr INFO:             ABINetLabelEncode : None\n",
            "[2024/05/25 17:32:37] ppocr INFO:             ABINetRecResizeImg : \n",
            "[2024/05/25 17:32:37] ppocr INFO:                 image_shape : [3, 32, 128]\n",
            "[2024/05/25 17:32:37] ppocr INFO:                 padding : False\n",
            "[2024/05/25 17:32:37] ppocr INFO:             KeepKeys : \n",
            "[2024/05/25 17:32:37] ppocr INFO:                 keep_keys : ['image', 'label', 'length']\n",
            "[2024/05/25 17:32:37] ppocr INFO:     loader : \n",
            "[2024/05/25 17:32:37] ppocr INFO:         batch_size_per_card : 32\n",
            "[2024/05/25 17:32:37] ppocr INFO:         drop_last : False\n",
            "[2024/05/25 17:32:37] ppocr INFO:         num_workers : 4\n",
            "[2024/05/25 17:32:37] ppocr INFO:         shuffle : False\n",
            "[2024/05/25 17:32:37] ppocr INFO:         use_shared_memory : False\n",
            "[2024/05/25 17:32:37] ppocr INFO: Global : \n",
            "[2024/05/25 17:32:37] ppocr INFO:     cal_metric_during_train : True\n",
            "[2024/05/25 17:32:37] ppocr INFO:     character_dict_path : /content/drive/MyDrive/char.txt\n",
            "[2024/05/25 17:32:37] ppocr INFO:     character_type : fa\n",
            "[2024/05/25 17:32:37] ppocr INFO:     checkpoints : /content/PaddleOCR/pretrained_model/IDPL2/output-IDPL2-ABInet-06/best_accuracy\n",
            "[2024/05/25 17:32:37] ppocr INFO:     distributed : False\n",
            "[2024/05/25 17:32:37] ppocr INFO:     epoch_num : 1500\n",
            "[2024/05/25 17:32:37] ppocr INFO:     eval_batch_step : [0, 40582]\n",
            "[2024/05/25 17:32:37] ppocr INFO:     infer_img : /content/PaddleOCR/pretrained_model/IDPL2/output-IDPL2-ABInet-06/test/Lsimple_148885.png\n",
            "[2024/05/25 17:32:37] ppocr INFO:     infer_mode : False\n",
            "[2024/05/25 17:32:37] ppocr INFO:     log_smooth_window : 1\n",
            "[2024/05/25 17:32:37] ppocr INFO:     max_text_length : 40\n",
            "[2024/05/25 17:32:37] ppocr INFO:     pretrained_model : /content/PaddleOCR/pretrained_model/IDPL2/output-IDPL2-ABInet-06/best_accuracy\n",
            "[2024/05/25 17:32:37] ppocr INFO:     print_batch_step : 10\n",
            "[2024/05/25 17:32:37] ppocr INFO:     save_epoch_step : 30\n",
            "[2024/05/25 17:32:37] ppocr INFO:     save_inference_dir : None\n",
            "[2024/05/25 17:32:37] ppocr INFO:     save_model_dir : /home/admin-pc-nezamabadi/paddelpaddle-env/output-IDPL2-ABInet-06\n",
            "[2024/05/25 17:32:37] ppocr INFO:     save_res_path : /content/PaddleOCR/pretrained_model/IDPL2/output-IDPL2-ABInet-06/rec/abinet_rec.txt\n",
            "[2024/05/25 17:32:37] ppocr INFO:     use_gpu : True\n",
            "[2024/05/25 17:32:37] ppocr INFO:     use_space_char : True\n",
            "[2024/05/25 17:32:37] ppocr INFO:     use_visualdl : False\n",
            "[2024/05/25 17:32:37] ppocr INFO: Loss : \n",
            "[2024/05/25 17:32:37] ppocr INFO:     ignore_index : 100\n",
            "[2024/05/25 17:32:37] ppocr INFO:     name : CELoss\n",
            "[2024/05/25 17:32:37] ppocr INFO:     smoothing : False\n",
            "[2024/05/25 17:32:37] ppocr INFO: Metric : \n",
            "[2024/05/25 17:32:37] ppocr INFO:     main_indicator : acc\n",
            "[2024/05/25 17:32:37] ppocr INFO:     name : RecMetric\n",
            "[2024/05/25 17:32:37] ppocr INFO: Optimizer : \n",
            "[2024/05/25 17:32:37] ppocr INFO:     beta1 : 0.9\n",
            "[2024/05/25 17:32:37] ppocr INFO:     beta2 : 0.99\n",
            "[2024/05/25 17:32:37] ppocr INFO:     clip_norm : 20.0\n",
            "[2024/05/25 17:32:37] ppocr INFO:     lr : \n",
            "[2024/05/25 17:32:37] ppocr INFO:         decay_epochs : [6]\n",
            "[2024/05/25 17:32:37] ppocr INFO:         name : Piecewise\n",
            "[2024/05/25 17:32:37] ppocr INFO:         values : [0.0001, 1e-05]\n",
            "[2024/05/25 17:32:37] ppocr INFO:     name : Adam\n",
            "[2024/05/25 17:32:37] ppocr INFO:     regularizer : \n",
            "[2024/05/25 17:32:37] ppocr INFO:         factor : 0.0\n",
            "[2024/05/25 17:32:37] ppocr INFO:         name : L2\n",
            "[2024/05/25 17:32:37] ppocr INFO: PostProcess : \n",
            "[2024/05/25 17:32:37] ppocr INFO:     name : ABINetLabelDecode\n",
            "[2024/05/25 17:32:37] ppocr INFO: Train : \n",
            "[2024/05/25 17:32:37] ppocr INFO:     dataset : \n",
            "[2024/05/25 17:32:37] ppocr INFO:         data_dir : /media/admin-pc-nezamabadi/Students/Dataset-IDPL-PFOD2-merge-with-DR/train\n",
            "[2024/05/25 17:32:37] ppocr INFO:         label_file_list : ['/media/admin-pc-nezamabadi/Students/Dataset-IDPL-PFOD2-merge-with-DR/old_txt_files/train.txt']\n",
            "[2024/05/25 17:32:37] ppocr INFO:         name : SimpleDataSet\n",
            "[2024/05/25 17:32:37] ppocr INFO:         transforms : \n",
            "[2024/05/25 17:32:37] ppocr INFO:             DecodeImage : \n",
            "[2024/05/25 17:32:37] ppocr INFO:                 channel_first : False\n",
            "[2024/05/25 17:32:37] ppocr INFO:                 img_mode : RGB\n",
            "[2024/05/25 17:32:37] ppocr INFO:             ABINetRecAug : None\n",
            "[2024/05/25 17:32:37] ppocr INFO:             ABINetLabelEncode : None\n",
            "[2024/05/25 17:32:37] ppocr INFO:             ABINetRecResizeImg : \n",
            "[2024/05/25 17:32:37] ppocr INFO:                 image_shape : [3, 32, 128]\n",
            "[2024/05/25 17:32:37] ppocr INFO:                 padding : False\n",
            "[2024/05/25 17:32:37] ppocr INFO:             KeepKeys : \n",
            "[2024/05/25 17:32:37] ppocr INFO:                 keep_keys : ['image', 'label', 'length']\n",
            "[2024/05/25 17:32:37] ppocr INFO:     loader : \n",
            "[2024/05/25 17:32:37] ppocr INFO:         batch_size_per_card : 32\n",
            "[2024/05/25 17:32:37] ppocr INFO:         drop_last : True\n",
            "[2024/05/25 17:32:37] ppocr INFO:         num_workers : 8\n",
            "[2024/05/25 17:32:37] ppocr INFO:         shuffle : True\n",
            "[2024/05/25 17:32:37] ppocr INFO: profiler_options : None\n",
            "[2024/05/25 17:32:37] ppocr INFO: train with paddle 2.6.1 and device Place(gpu:0)\n",
            "W0525 17:32:38.073269  5363 gpu_resources.cc:119] Please NOTE: device: 0, GPU Compute Capability: 7.5, Driver API Version: 12.2, Runtime API Version: 12.0\n",
            "W0525 17:32:38.074559  5363 gpu_resources.cc:164] device: 0, cuDNN Version: 8.9.\n",
            "[2024/05/25 17:32:38] ppocr WARNING: The shape of model params head.decoder.pos_encoder.pe [26, 1, 512] not matched with loaded params shape [41, 1, 512] !\n",
            "[2024/05/25 17:32:38] ppocr WARNING: The shape of model params head.cls.weight [512, 40] not matched with loaded params shape [512, 157] !\n",
            "[2024/05/25 17:32:38] ppocr WARNING: The shape of model params head.cls.bias [40] not matched with loaded params shape [157] !\n",
            "[2024/05/25 17:32:38] ppocr WARNING: The shape of model params head.language.proj.weight [40, 512] not matched with loaded params shape [157, 512] !\n",
            "[2024/05/25 17:32:38] ppocr WARNING: The shape of model params head.language.token_encoder.pe [26, 1, 512] not matched with loaded params shape [41, 1, 512] !\n",
            "[2024/05/25 17:32:38] ppocr WARNING: The shape of model params head.language.pos_encoder.pe [26, 1, 512] not matched with loaded params shape [41, 1, 512] !\n",
            "[2024/05/25 17:32:38] ppocr WARNING: The shape of model params head.language.cls.weight [512, 40] not matched with loaded params shape [512, 157] !\n",
            "[2024/05/25 17:32:38] ppocr WARNING: The shape of model params head.language.cls.bias [40] not matched with loaded params shape [157] !\n",
            "[2024/05/25 17:32:38] ppocr WARNING: The shape of model params head.cls_align.weight [512, 40] not matched with loaded params shape [512, 157] !\n",
            "[2024/05/25 17:32:38] ppocr WARNING: The shape of model params head.cls_align.bias [40] not matched with loaded params shape [157] !\n",
            "[2024/05/25 17:32:38] ppocr INFO: resume from /content/PaddleOCR/pretrained_model/IDPL2/output-IDPL2-ABInet-06/best_accuracy\n",
            "[2024/05/25 17:32:38] ppocr INFO: infer_img: /content/PaddleOCR/pretrained_model/IDPL2/output-IDPL2-ABInet-06/test/Lsimple_148885.png\n",
            "[2024/05/25 17:32:39] ppocr INFO: \t result: لایهذکللغکممپکمسلثعلثضگگگگ\t0.19449901580810547\n",
            "[2024/05/25 17:32:39] ppocr INFO: success!\n"
          ]
        }
      ]
    },
    {
      "cell_type": "code",
      "source": [],
      "metadata": {
        "id": "rOjI5SSePoox"
      },
      "execution_count": null,
      "outputs": []
    }
  ]
}