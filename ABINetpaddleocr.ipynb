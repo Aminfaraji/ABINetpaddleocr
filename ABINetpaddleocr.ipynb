{
  "nbformat": 4,
  "nbformat_minor": 0,
  "metadata": {
    "colab": {
      "provenance": [],
      "gpuType": "T4",
      "authorship_tag": "ABX9TyMh0DXPwXStWtwNepDeTGm/",
      "include_colab_link": true
    },
    "kernelspec": {
      "name": "python3",
      "display_name": "Python 3"
    },
    "language_info": {
      "name": "python"
    },
    "accelerator": "GPU"
  },
  "cells": [
    {
      "cell_type": "markdown",
      "metadata": {
        "id": "view-in-github",
        "colab_type": "text"
      },
      "source": [
        "<a href=\"https://colab.research.google.com/github/Aminfaraji/ABINetpaddleocr/blob/main/ABINetpaddleocr.ipynb\" target=\"_parent\"><img src=\"https://colab.research.google.com/assets/colab-badge.svg\" alt=\"Open In Colab\"/></a>"
      ]
    },
    {
      "cell_type": "code",
      "execution_count": 1,
      "metadata": {
        "colab": {
          "base_uri": "https://localhost:8080/"
        },
        "id": "RW2THkseQ0KI",
        "outputId": "b1136d07-09eb-4fed-ab12-878ebd9d9a94"
      },
      "outputs": [
        {
          "output_type": "stream",
          "name": "stdout",
          "text": [
            "Mounted at /content/drive\n"
          ]
        }
      ],
      "source": [
        "from google.colab import drive\n",
        "drive.mount('/content/drive')"
      ]
    },
    {
      "cell_type": "code",
      "source": [
        "!python -m pip install paddlepaddle-gpu==2.4.1.post112 -f https://www.paddlepaddle.org.cn/whl/linux/mkl/avx/stable.html\n",
        "!git clone https://github.com/PaddlePaddle/PaddleOCR.git\n",
        "%cd /content/PaddleOCR\n",
        "!pip install -r requirements.txt"
      ],
      "metadata": {
        "id": "SApL4hsYRN4t"
      },
      "execution_count": null,
      "outputs": []
    },
    {
      "cell_type": "code",
      "source": [
        "%cd /content/PaddleOCR\n",
        "# !mkdir pretrained_model\n",
        "# %cd pretrained_model/\n",
        "# !wget https://paddleocr.bj.bcebos.com/rec_r45_abinet_train.tar\n",
        "# !tar -xf rec_r45_abinet_train.tar && rm -rf rec_r45_abinet_train.tar"
      ],
      "metadata": {
        "colab": {
          "base_uri": "https://localhost:8080/"
        },
        "id": "RX7XyN3HRhmF",
        "outputId": "b8f96119-34ea-4e01-982a-2413cfd119b9"
      },
      "execution_count": 1,
      "outputs": [
        {
          "output_type": "stream",
          "name": "stdout",
          "text": [
            "/content/PaddleOCR\n"
          ]
        }
      ]
    },
    {
      "cell_type": "code",
      "source": [
        "!mkdir /content/PaddleOCR/train_data\n",
        "!unzip /content/drive/MyDrive/dataset_IDPL.zip -d /content/PaddleOCR/train_data"
      ],
      "metadata": {
        "id": "Rsh9qOVvVoWU"
      },
      "execution_count": null,
      "outputs": []
    },
    {
      "cell_type": "code",
      "source": [
        "import cv2\n",
        "import os\n",
        "#from imutils import perspective\n",
        "import numpy as np\n",
        "import json\n",
        "from tqdm import tqdm\n",
        "import matplotlib.pyplot as plt\n",
        "from imutils import perspective"
      ],
      "metadata": {
        "id": "9dejnwObV1LI"
      },
      "execution_count": 2,
      "outputs": []
    },
    {
      "cell_type": "code",
      "source": [
        "!python3 tools/train.py -c /content/PaddleOCR/pretrained_model/rec_r45_abinet_train/config.yml -o Global.pretrained_model=/content/PaddleOCR/pretrained_model/rec_r45_abinet_train/best_accuracy"
      ],
      "metadata": {
        "colab": {
          "base_uri": "https://localhost:8080/"
        },
        "id": "9n1t7So9Ynuv",
        "outputId": "8ac7cbf7-cb63-42ef-b07d-16d5165803c2"
      },
      "execution_count": 5,
      "outputs": [
        {
          "output_type": "stream",
          "name": "stdout",
          "text": [
            "/usr/local/lib/python3.10/dist-packages/pkg_resources/__init__.py:121: DeprecationWarning: pkg_resources is deprecated as an API\n",
            "  warnings.warn(\"pkg_resources is deprecated as an API\", DeprecationWarning)\n",
            "/usr/local/lib/python3.10/dist-packages/pkg_resources/__init__.py:2870: DeprecationWarning: Deprecated call to `pkg_resources.declare_namespace('google')`.\n",
            "Implementing implicit namespace packages (as specified in PEP 420) is preferred to `pkg_resources.declare_namespace`. See https://setuptools.pypa.io/en/latest/references/keywords.html#keyword-namespace-packages\n",
            "  declare_namespace(pkg)\n",
            "/usr/local/lib/python3.10/dist-packages/pkg_resources/__init__.py:2870: DeprecationWarning: Deprecated call to `pkg_resources.declare_namespace('google.cloud')`.\n",
            "Implementing implicit namespace packages (as specified in PEP 420) is preferred to `pkg_resources.declare_namespace`. See https://setuptools.pypa.io/en/latest/references/keywords.html#keyword-namespace-packages\n",
            "  declare_namespace(pkg)\n",
            "/usr/local/lib/python3.10/dist-packages/pkg_resources/__init__.py:2349: DeprecationWarning: Deprecated call to `pkg_resources.declare_namespace('google')`.\n",
            "Implementing implicit namespace packages (as specified in PEP 420) is preferred to `pkg_resources.declare_namespace`. See https://setuptools.pypa.io/en/latest/references/keywords.html#keyword-namespace-packages\n",
            "  declare_namespace(parent)\n",
            "/usr/local/lib/python3.10/dist-packages/pkg_resources/__init__.py:2870: DeprecationWarning: Deprecated call to `pkg_resources.declare_namespace('google.logging')`.\n",
            "Implementing implicit namespace packages (as specified in PEP 420) is preferred to `pkg_resources.declare_namespace`. See https://setuptools.pypa.io/en/latest/references/keywords.html#keyword-namespace-packages\n",
            "  declare_namespace(pkg)\n",
            "/usr/local/lib/python3.10/dist-packages/pkg_resources/__init__.py:2870: DeprecationWarning: Deprecated call to `pkg_resources.declare_namespace('google.iam')`.\n",
            "Implementing implicit namespace packages (as specified in PEP 420) is preferred to `pkg_resources.declare_namespace`. See https://setuptools.pypa.io/en/latest/references/keywords.html#keyword-namespace-packages\n",
            "  declare_namespace(pkg)\n",
            "/usr/local/lib/python3.10/dist-packages/pkg_resources/__init__.py:2870: DeprecationWarning: Deprecated call to `pkg_resources.declare_namespace('mpl_toolkits')`.\n",
            "Implementing implicit namespace packages (as specified in PEP 420) is preferred to `pkg_resources.declare_namespace`. See https://setuptools.pypa.io/en/latest/references/keywords.html#keyword-namespace-packages\n",
            "  declare_namespace(pkg)\n",
            "/usr/local/lib/python3.10/dist-packages/pkg_resources/__init__.py:2870: DeprecationWarning: Deprecated call to `pkg_resources.declare_namespace('sphinxcontrib')`.\n",
            "Implementing implicit namespace packages (as specified in PEP 420) is preferred to `pkg_resources.declare_namespace`. See https://setuptools.pypa.io/en/latest/references/keywords.html#keyword-namespace-packages\n",
            "  declare_namespace(pkg)\n",
            "[2023/09/27 17:51:06] ppocr INFO: Architecture : \n",
            "[2023/09/27 17:51:06] ppocr INFO:     Backbone : \n",
            "[2023/09/27 17:51:06] ppocr INFO:         name : ResNet45\n",
            "[2023/09/27 17:51:06] ppocr INFO:     Head : \n",
            "[2023/09/27 17:51:06] ppocr INFO:         iter_size : 3\n",
            "[2023/09/27 17:51:06] ppocr INFO:         name : ABINetHead\n",
            "[2023/09/27 17:51:06] ppocr INFO:         use_lang : True\n",
            "[2023/09/27 17:51:06] ppocr INFO:     Transform : None\n",
            "[2023/09/27 17:51:06] ppocr INFO:     algorithm : ABINet\n",
            "[2023/09/27 17:51:06] ppocr INFO:     in_channels : 3\n",
            "[2023/09/27 17:51:06] ppocr INFO:     model_type : rec\n",
            "[2023/09/27 17:51:06] ppocr INFO: Eval : \n",
            "[2023/09/27 17:51:06] ppocr INFO:     dataset : \n",
            "[2023/09/27 17:51:06] ppocr INFO:         data_dir : /content/PaddleOCR/train_data/dataset_IDPL/val\n",
            "[2023/09/27 17:51:06] ppocr INFO:         label_file_list : ['/content/PaddleOCR/train_data/dataset_IDPL/val.txt']\n",
            "[2023/09/27 17:51:06] ppocr INFO:         name : SimpleDataSet\n",
            "[2023/09/27 17:51:06] ppocr INFO:         transforms : \n",
            "[2023/09/27 17:51:06] ppocr INFO:             DecodeImage : \n",
            "[2023/09/27 17:51:06] ppocr INFO:                 channel_first : False\n",
            "[2023/09/27 17:51:06] ppocr INFO:                 img_mode : RGB\n",
            "[2023/09/27 17:51:06] ppocr INFO:             ABINetLabelEncode : \n",
            "[2023/09/27 17:51:06] ppocr INFO:                 ignore_index : 100\n",
            "[2023/09/27 17:51:06] ppocr INFO:             ABINetRecResizeImg : \n",
            "[2023/09/27 17:51:06] ppocr INFO:                 image_shape : [3, 30, 256]\n",
            "[2023/09/27 17:51:06] ppocr INFO:             KeepKeys : \n",
            "[2023/09/27 17:51:06] ppocr INFO:                 keep_keys : ['image', 'label', 'length']\n",
            "[2023/09/27 17:51:06] ppocr INFO:     loader : \n",
            "[2023/09/27 17:51:06] ppocr INFO:         batch_size_per_card : 128\n",
            "[2023/09/27 17:51:06] ppocr INFO:         drop_last : False\n",
            "[2023/09/27 17:51:06] ppocr INFO:         num_workers : 4\n",
            "[2023/09/27 17:51:06] ppocr INFO:         shuffle : False\n",
            "[2023/09/27 17:51:06] ppocr INFO:         use_shared_memory : False\n",
            "[2023/09/27 17:51:06] ppocr INFO: Global : \n",
            "[2023/09/27 17:51:06] ppocr INFO:     cal_metric_during_train : True\n",
            "[2023/09/27 17:51:06] ppocr INFO:     character_dict_path : /content/drive/MyDrive/char.txt\n",
            "[2023/09/27 17:51:06] ppocr INFO:     character_type : en\n",
            "[2023/09/27 17:51:06] ppocr INFO:     checkpoints : None\n",
            "[2023/09/27 17:51:06] ppocr INFO:     distributed : False\n",
            "[2023/09/27 17:51:06] ppocr INFO:     epoch_num : 10\n",
            "[2023/09/27 17:51:06] ppocr INFO:     eval_batch_step : [0, 5]\n",
            "[2023/09/27 17:51:06] ppocr INFO:     infer_img : doc/imgs_words_en/word_10.png\n",
            "[2023/09/27 17:51:06] ppocr INFO:     infer_mode : False\n",
            "[2023/09/27 17:51:06] ppocr INFO:     log_smooth_window : 20\n",
            "[2023/09/27 17:51:06] ppocr INFO:     max_text_length : 32\n",
            "[2023/09/27 17:51:06] ppocr INFO:     pretrained_model : /content/PaddleOCR/pretrained_model/rec_r45_abinet_train/best_accuracy\n",
            "[2023/09/27 17:51:06] ppocr INFO:     print_batch_step : 10\n",
            "[2023/09/27 17:51:06] ppocr INFO:     save_epoch_step : 1\n",
            "[2023/09/27 17:51:06] ppocr INFO:     save_inference_dir : None\n",
            "[2023/09/27 17:51:06] ppocr INFO:     save_model_dir : ./output/rec/r45_abinet/\n",
            "[2023/09/27 17:51:06] ppocr INFO:     save_res_path : ./output/rec/predicts_abinet.txt\n",
            "[2023/09/27 17:51:06] ppocr INFO:     use_gpu : True\n",
            "[2023/09/27 17:51:06] ppocr INFO:     use_space_char : False\n",
            "[2023/09/27 17:51:06] ppocr INFO:     use_visualdl : False\n",
            "[2023/09/27 17:51:06] ppocr INFO: Loss : \n",
            "[2023/09/27 17:51:06] ppocr INFO:     ignore_index : 100\n",
            "[2023/09/27 17:51:06] ppocr INFO:     name : CELoss\n",
            "[2023/09/27 17:51:06] ppocr INFO: Metric : \n",
            "[2023/09/27 17:51:06] ppocr INFO:     main_indicator : acc\n",
            "[2023/09/27 17:51:06] ppocr INFO:     name : RecMetric\n",
            "[2023/09/27 17:51:06] ppocr INFO: Optimizer : \n",
            "[2023/09/27 17:51:06] ppocr INFO:     beta1 : 0.9\n",
            "[2023/09/27 17:51:06] ppocr INFO:     beta2 : 0.99\n",
            "[2023/09/27 17:51:06] ppocr INFO:     clip_norm : 20.0\n",
            "[2023/09/27 17:51:06] ppocr INFO:     lr : \n",
            "[2023/09/27 17:51:06] ppocr INFO:         decay_epochs : [6]\n",
            "[2023/09/27 17:51:06] ppocr INFO:         name : Piecewise\n",
            "[2023/09/27 17:51:06] ppocr INFO:         values : [0.0001, 1e-05]\n",
            "[2023/09/27 17:51:06] ppocr INFO:     name : Adam\n",
            "[2023/09/27 17:51:06] ppocr INFO:     regularizer : \n",
            "[2023/09/27 17:51:06] ppocr INFO:         factor : 0.0\n",
            "[2023/09/27 17:51:06] ppocr INFO:         name : L2\n",
            "[2023/09/27 17:51:06] ppocr INFO: PostProcess : \n",
            "[2023/09/27 17:51:06] ppocr INFO:     name : ABINetLabelDecode\n",
            "[2023/09/27 17:51:06] ppocr INFO: Train : \n",
            "[2023/09/27 17:51:06] ppocr INFO:     dataset : \n",
            "[2023/09/27 17:51:06] ppocr INFO:         data_dir : /content/PaddleOCR/train_data/dataset_IDPL/train\n",
            "[2023/09/27 17:51:06] ppocr INFO:         label_file_list : ['/content/PaddleOCR/train_data/dataset_IDPL/train.txt']\n",
            "[2023/09/27 17:51:06] ppocr INFO:         name : SimpleDataSet\n",
            "[2023/09/27 17:51:06] ppocr INFO:         transforms : \n",
            "[2023/09/27 17:51:06] ppocr INFO:             DecodeImage : \n",
            "[2023/09/27 17:51:06] ppocr INFO:                 channel_first : False\n",
            "[2023/09/27 17:51:06] ppocr INFO:                 img_mode : RGB\n",
            "[2023/09/27 17:51:06] ppocr INFO:             ABINetRecAug : None\n",
            "[2023/09/27 17:51:06] ppocr INFO:             ABINetLabelEncode : \n",
            "[2023/09/27 17:51:06] ppocr INFO:                 ignore_index : 100\n",
            "[2023/09/27 17:51:06] ppocr INFO:             ABINetRecResizeImg : \n",
            "[2023/09/27 17:51:06] ppocr INFO:                 image_shape : [3, 30, 256]\n",
            "[2023/09/27 17:51:06] ppocr INFO:             KeepKeys : \n",
            "[2023/09/27 17:51:06] ppocr INFO:                 keep_keys : ['image', 'label', 'length']\n",
            "[2023/09/27 17:51:06] ppocr INFO:     loader : \n",
            "[2023/09/27 17:51:06] ppocr INFO:         batch_size_per_card : 128\n",
            "[2023/09/27 17:51:06] ppocr INFO:         drop_last : True\n",
            "[2023/09/27 17:51:06] ppocr INFO:         num_workers : 8\n",
            "[2023/09/27 17:51:06] ppocr INFO:         shuffle : True\n",
            "[2023/09/27 17:51:06] ppocr INFO: profiler_options : None\n",
            "[2023/09/27 17:51:06] ppocr INFO: train with paddle 2.4.1 and device Place(gpu:0)\n",
            "[2023/09/27 17:51:06] ppocr INFO: Initialize indexs of datasets:['/content/PaddleOCR/train_data/dataset_IDPL/train.txt']\n",
            "list index out of range\n",
            "[2023/09/27 17:51:06] ppocr INFO: Initialize indexs of datasets:['/content/PaddleOCR/train_data/dataset_IDPL/val.txt']\n",
            "W0927 17:51:06.411695 38391 gpu_resources.cc:61] Please NOTE: device: 0, GPU Compute Capability: 7.5, Driver API Version: 12.0, Runtime API Version: 11.8\n",
            "W0927 17:51:06.413163 38391 gpu_resources.cc:91] device: 0, cuDNN Version: 8.9.\n",
            "[2023/09/27 17:51:08] ppocr INFO: train dataloader has 1125 iters\n",
            "[2023/09/27 17:51:08] ppocr INFO: valid dataloader has 141 iters\n",
            "[2023/09/27 17:51:08] ppocr WARNING: The shape of model params head.cls.weight [512, 39] not matched with loaded params head.cls.weight [512, 37] !\n",
            "[2023/09/27 17:51:08] ppocr WARNING: The shape of model params head.cls.bias [39] not matched with loaded params head.cls.bias [37] !\n",
            "[2023/09/27 17:51:08] ppocr WARNING: The shape of model params head.language.proj.weight [39, 512] not matched with loaded params head.language.proj.weight [37, 512] !\n",
            "[2023/09/27 17:51:08] ppocr WARNING: The shape of model params head.language.cls.weight [512, 39] not matched with loaded params head.language.cls.weight [512, 37] !\n",
            "[2023/09/27 17:51:08] ppocr WARNING: The shape of model params head.language.cls.bias [39] not matched with loaded params head.language.cls.bias [37] !\n",
            "[2023/09/27 17:51:08] ppocr WARNING: The shape of model params head.cls_align.weight [512, 39] not matched with loaded params head.cls_align.weight [512, 37] !\n",
            "[2023/09/27 17:51:08] ppocr WARNING: The shape of model params head.cls_align.bias [39] not matched with loaded params head.cls_align.bias [37] !\n",
            "[2023/09/27 17:51:08] ppocr INFO: load pretrain successful from /content/PaddleOCR/pretrained_model/rec_r45_abinet_train/best_accuracy\n",
            "[2023/09/27 17:51:08] ppocr INFO: During the training process, after the 0th iteration, an evaluation is run every 5 iterations\n",
            "Traceback (most recent call last):\n",
            "  File \"/content/PaddleOCR/tools/train.py\", line 227, in <module>\n",
            "    main(config, device, logger, vdl_writer)\n",
            "  File \"/content/PaddleOCR/tools/train.py\", line 198, in main\n",
            "    program.train(config, train_dataloader, valid_dataloader, device, model,\n",
            "  File \"/content/PaddleOCR/tools/program.py\", line 307, in train\n",
            "    preds = model(images)\n",
            "  File \"/usr/local/lib/python3.10/dist-packages/paddle/fluid/dygraph/layers.py\", line 948, in __call__\n",
            "    return self.forward(*inputs, **kwargs)\n",
            "  File \"/content/PaddleOCR/ppocr/modeling/architectures/base_model.py\", line 100, in forward\n",
            "    x = self.head(x, targets=data)\n",
            "  File \"/usr/local/lib/python3.10/dist-packages/paddle/fluid/dygraph/layers.py\", line 948, in __call__\n",
            "    return self.forward(*inputs, **kwargs)\n",
            "  File \"/content/PaddleOCR/ppocr/modeling/heads/rec_abinet_head.py\", line 224, in forward\n",
            "    feature = self.pos_encoder(feature)\n",
            "  File \"/usr/local/lib/python3.10/dist-packages/paddle/fluid/dygraph/layers.py\", line 948, in __call__\n",
            "    return self.forward(*inputs, **kwargs)\n",
            "  File \"/content/PaddleOCR/ppocr/modeling/heads/rec_nrtr_head.py\", line 505, in forward\n",
            "    x = x + self.pe[:paddle.shape(x)[0], :]\n",
            "  File \"/usr/local/lib/python3.10/dist-packages/paddle/fluid/dygraph/math_op_patch.py\", line 304, in __impl__\n",
            "    return math_op(self, other_var, -1)\n",
            "ValueError: (InvalidArgument) Broadcast dimension mismatch. Operands could not be broadcast together with the shape of X = [512, 128, 512] and the shape of Y = [256, 1, 512]. Received [512] in X is not equal to [256] in Y at i:0.\n",
            "  [Hint: Expected x_dims_array[i] == y_dims_array[i] || x_dims_array[i] <= 1 || y_dims_array[i] <= 1 == true, but received x_dims_array[i] == y_dims_array[i] || x_dims_array[i] <= 1 || y_dims_array[i] <= 1:0 != true:1.] (at /paddle/paddle/phi/kernels/funcs/common_shape.h:84)\n",
            "\n"
          ]
        }
      ]
    },
    {
      "cell_type": "code",
      "source": [],
      "metadata": {
        "colab": {
          "base_uri": "https://localhost:8080/"
        },
        "id": "f1SdL1oWZKZV",
        "outputId": "a561b4a2-93a2-4ec7-e9e9-9ea8fc5a1c15"
      },
      "execution_count": 4,
      "outputs": [
        {
          "output_type": "execute_result",
          "data": {
            "text/plain": [
              "8.0"
            ]
          },
          "metadata": {},
          "execution_count": 4
        }
      ]
    },
    {
      "cell_type": "code",
      "source": [
        "with open(r'/content/PaddleOCR/train_data/dataset_IDPL/val.txt',encoding='utf-8') as f:\n",
        "  w=open('/content/PaddleOCR/train_data/dataset_IDPL/val_new.txt','w',encoding='utf-8')\n",
        "  ff=f.readlines()\n",
        "  for i in ff:\n",
        "    q='/content/PaddleOCR/train_data/dataset_IDPL/val/'+i\n",
        "    w.writelines(q)"
      ],
      "metadata": {
        "id": "zpXEQRq0apWL"
      },
      "execution_count": 43,
      "outputs": []
    },
    {
      "cell_type": "code",
      "source": [],
      "metadata": {
        "id": "WQRDH2jee6hk"
      },
      "execution_count": null,
      "outputs": []
    }
  ]
}